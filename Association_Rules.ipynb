{
  "nbformat": 4,
  "nbformat_minor": 0,
  "metadata": {
    "colab": {
      "name": "Association Rules.ipynb",
      "provenance": [],
      "collapsed_sections": [],
      "authorship_tag": "ABX9TyMf8etyUw8yEvtSj1v6TIFh",
      "include_colab_link": true
    },
    "kernelspec": {
      "name": "ir",
      "display_name": "R"
    },
    "language_info": {
      "name": "R"
    }
  },
  "cells": [
    {
      "cell_type": "markdown",
      "metadata": {
        "id": "view-in-github",
        "colab_type": "text"
      },
      "source": [
        "<a href=\"https://colab.research.google.com/github/TabithaWKariuki/Dimensionality-reduction-Using-Unsupervised-Learning-Techniques/blob/main/Association_Rules.ipynb\" target=\"_parent\"><img src=\"https://colab.research.google.com/assets/colab-badge.svg\" alt=\"Open In Colab\"/></a>"
      ]
    },
    {
      "cell_type": "markdown",
      "source": [
        "# Unsupervised Learning Using Association Rules"
      ],
      "metadata": {
        "id": "S6MgQdJHVs9S"
      }
    },
    {
      "cell_type": "markdown",
      "source": [
        "You are a Data analyst at Carrefour Kenya and are currently undertaking a project that will inform the marketing department on the most relevant marketing strategies that will result in the highest no. of sales (total price including tax). Your project has been divided into four parts where you'll explore a recent marketing dataset by performing various unsupervised learning techniques and later providing recommendations based on your insights.\n",
        "\n",
        "**Association Rules**\n",
        "\n",
        "This section will require that you create association rules that will allow you to identify relationships between variables in the dataset. You are provided with a separate dataset that comprises groups of items that will be associated with others. Just like in the other sections, you will also be required to provide insights for your analysis."
      ],
      "metadata": {
        "id": "4g3VGBNgVdZx"
      }
    },
    {
      "cell_type": "markdown",
      "source": [
        "# 1. Importing and Installing the necessary libraries"
      ],
      "metadata": {
        "id": "bXzd7sLlWLEA"
      }
    },
    {
      "cell_type": "code",
      "execution_count": null,
      "metadata": {
        "id": "LdF_806PRs99"
      },
      "outputs": [],
      "source": [
        "# Checking and installing packages\n",
        "\n",
        "library()"
      ]
    },
    {
      "cell_type": "code",
      "source": [
        "# Arules package\n",
        "\n",
        "suppressWarnings(\n",
        "        suppressMessages(if\n",
        "                         (!require(arules, quietly=TRUE))\n",
        "                install.packages(\"arules\")))"
      ],
      "metadata": {
        "id": "IibN_Cu1SZB7"
      },
      "execution_count": null,
      "outputs": []
    },
    {
      "cell_type": "code",
      "source": [
        "# Arules library\n",
        "\n",
        "library('arules')"
      ],
      "metadata": {
        "colab": {
          "base_uri": "https://localhost:8080/"
        },
        "id": "scWnwcJlSuuq",
        "outputId": "ae8ade43-e222-41b2-e5c0-c533aab0eded"
      },
      "execution_count": null,
      "outputs": [
        {
          "output_type": "stream",
          "name": "stderr",
          "text": [
            "Loading required package: Matrix\n",
            "\n",
            "\n",
            "Attaching package: ‘arules’\n",
            "\n",
            "\n",
            "The following objects are masked from ‘package:base’:\n",
            "\n",
            "    abbreviate, write\n",
            "\n",
            "\n"
          ]
        }
      ]
    },
    {
      "cell_type": "code",
      "source": [
        "install.packages(\"arulesViz\")"
      ],
      "metadata": {
        "colab": {
          "base_uri": "https://localhost:8080/"
        },
        "id": "Kry5BKWdF_7Z",
        "outputId": "28e42b35-0a92-472c-d839-008f34535038"
      },
      "execution_count": null,
      "outputs": [
        {
          "output_type": "stream",
          "name": "stderr",
          "text": [
            "Warning message in install.packages(\"arulesViz\"):\n",
            "“installation of package ‘plotly’ had non-zero exit status”\n",
            "Warning message in install.packages(\"arulesViz\"):\n",
            "“installation of package ‘arulesViz’ had non-zero exit status”\n"
          ]
        }
      ]
    },
    {
      "cell_type": "code",
      "source": [
        "# aruleViz library\n",
        "\n",
        "library(arulesViz)"
      ],
      "metadata": {
        "id": "jsuZdzrhGD6H"
      },
      "execution_count": null,
      "outputs": []
    },
    {
      "cell_type": "code",
      "source": [
        "# dplyr library\n",
        "\n",
        "library(dplyr)"
      ],
      "metadata": {
        "colab": {
          "base_uri": "https://localhost:8080/"
        },
        "id": "adPGN5x288zq",
        "outputId": "645927a7-0b7e-46b8-f415-afbf038eba48"
      },
      "execution_count": null,
      "outputs": [
        {
          "output_type": "stream",
          "name": "stderr",
          "text": [
            "\n",
            "Attaching package: ‘dplyr’\n",
            "\n",
            "\n",
            "The following objects are masked from ‘package:arules’:\n",
            "\n",
            "    intersect, recode, setdiff, setequal, union\n",
            "\n",
            "\n",
            "The following objects are masked from ‘package:stats’:\n",
            "\n",
            "    filter, lag\n",
            "\n",
            "\n",
            "The following objects are masked from ‘package:base’:\n",
            "\n",
            "    intersect, setdiff, setequal, union\n",
            "\n",
            "\n"
          ]
        }
      ]
    },
    {
      "cell_type": "markdown",
      "source": [
        "# 2. Loading our dataset"
      ],
      "metadata": {
        "id": "vUlBZMyh5z-2"
      }
    },
    {
      "cell_type": "code",
      "source": [
        "# Loading our dataset\n",
        "\n",
        "data2 = read.csv('http://bit.ly/SupermarketDatasetII')"
      ],
      "metadata": {
        "id": "rIaUc47hS5Ht"
      },
      "execution_count": null,
      "outputs": []
    },
    {
      "cell_type": "markdown",
      "source": [
        "# 3. Understanding our dataset"
      ],
      "metadata": {
        "id": "EyB_bulu6ytt"
      }
    },
    {
      "cell_type": "code",
      "source": [
        "# Checking the top rows of the data\n",
        "\n",
        "head(data2)"
      ],
      "metadata": {
        "colab": {
          "base_uri": "https://localhost:8080/",
          "height": 338
        },
        "id": "ws3rBDpuTLja",
        "outputId": "3630ff3f-eddf-4ff3-999a-e6eb675da2ba"
      },
      "execution_count": null,
      "outputs": [
        {
          "output_type": "display_data",
          "data": {
            "text/html": [
              "<table class=\"dataframe\">\n",
              "<caption>A data.frame: 6 × 20</caption>\n",
              "<thead>\n",
              "\t<tr><th></th><th scope=col>shrimp</th><th scope=col>almonds</th><th scope=col>avocado</th><th scope=col>vegetables.mix</th><th scope=col>green.grapes</th><th scope=col>whole.weat.flour</th><th scope=col>yams</th><th scope=col>cottage.cheese</th><th scope=col>energy.drink</th><th scope=col>tomato.juice</th><th scope=col>low.fat.yogurt</th><th scope=col>green.tea</th><th scope=col>honey</th><th scope=col>salad</th><th scope=col>mineral.water</th><th scope=col>salmon</th><th scope=col>antioxydant.juice</th><th scope=col>frozen.smoothie</th><th scope=col>spinach</th><th scope=col>olive.oil</th></tr>\n",
              "\t<tr><th></th><th scope=col>&lt;chr&gt;</th><th scope=col>&lt;chr&gt;</th><th scope=col>&lt;chr&gt;</th><th scope=col>&lt;chr&gt;</th><th scope=col>&lt;chr&gt;</th><th scope=col>&lt;chr&gt;</th><th scope=col>&lt;chr&gt;</th><th scope=col>&lt;chr&gt;</th><th scope=col>&lt;chr&gt;</th><th scope=col>&lt;chr&gt;</th><th scope=col>&lt;chr&gt;</th><th scope=col>&lt;chr&gt;</th><th scope=col>&lt;chr&gt;</th><th scope=col>&lt;chr&gt;</th><th scope=col>&lt;chr&gt;</th><th scope=col>&lt;chr&gt;</th><th scope=col>&lt;chr&gt;</th><th scope=col>&lt;chr&gt;</th><th scope=col>&lt;chr&gt;</th><th scope=col>&lt;lgl&gt;</th></tr>\n",
              "</thead>\n",
              "<tbody>\n",
              "\t<tr><th scope=row>1</th><td>burgers          </td><td>meatballs   </td><td>eggs      </td><td>                </td><td>         </td><td></td><td></td><td></td><td></td><td></td><td></td><td></td><td></td><td></td><td></td><td></td><td></td><td></td><td></td><td>NA</td></tr>\n",
              "\t<tr><th scope=row>2</th><td>chutney          </td><td>            </td><td>          </td><td>                </td><td>         </td><td></td><td></td><td></td><td></td><td></td><td></td><td></td><td></td><td></td><td></td><td></td><td></td><td></td><td></td><td>NA</td></tr>\n",
              "\t<tr><th scope=row>3</th><td>turkey           </td><td>avocado     </td><td>          </td><td>                </td><td>         </td><td></td><td></td><td></td><td></td><td></td><td></td><td></td><td></td><td></td><td></td><td></td><td></td><td></td><td></td><td>NA</td></tr>\n",
              "\t<tr><th scope=row>4</th><td>mineral water    </td><td>milk        </td><td>energy bar</td><td>whole wheat rice</td><td>green tea</td><td></td><td></td><td></td><td></td><td></td><td></td><td></td><td></td><td></td><td></td><td></td><td></td><td></td><td></td><td>NA</td></tr>\n",
              "\t<tr><th scope=row>5</th><td>low fat yogurt   </td><td>            </td><td>          </td><td>                </td><td>         </td><td></td><td></td><td></td><td></td><td></td><td></td><td></td><td></td><td></td><td></td><td></td><td></td><td></td><td></td><td>NA</td></tr>\n",
              "\t<tr><th scope=row>6</th><td>whole wheat pasta</td><td>french fries</td><td>          </td><td>                </td><td>         </td><td></td><td></td><td></td><td></td><td></td><td></td><td></td><td></td><td></td><td></td><td></td><td></td><td></td><td></td><td>NA</td></tr>\n",
              "</tbody>\n",
              "</table>\n"
            ],
            "text/markdown": "\nA data.frame: 6 × 20\n\n| <!--/--> | shrimp &lt;chr&gt; | almonds &lt;chr&gt; | avocado &lt;chr&gt; | vegetables.mix &lt;chr&gt; | green.grapes &lt;chr&gt; | whole.weat.flour &lt;chr&gt; | yams &lt;chr&gt; | cottage.cheese &lt;chr&gt; | energy.drink &lt;chr&gt; | tomato.juice &lt;chr&gt; | low.fat.yogurt &lt;chr&gt; | green.tea &lt;chr&gt; | honey &lt;chr&gt; | salad &lt;chr&gt; | mineral.water &lt;chr&gt; | salmon &lt;chr&gt; | antioxydant.juice &lt;chr&gt; | frozen.smoothie &lt;chr&gt; | spinach &lt;chr&gt; | olive.oil &lt;lgl&gt; |\n|---|---|---|---|---|---|---|---|---|---|---|---|---|---|---|---|---|---|---|---|---|\n| 1 | burgers           | meatballs    | eggs       | <!----> | <!----> | <!----> | <!----> | <!----> | <!----> | <!----> | <!----> | <!----> | <!----> | <!----> | <!----> | <!----> | <!----> | <!----> | <!----> | NA |\n| 2 | chutney           | <!----> | <!----> | <!----> | <!----> | <!----> | <!----> | <!----> | <!----> | <!----> | <!----> | <!----> | <!----> | <!----> | <!----> | <!----> | <!----> | <!----> | <!----> | NA |\n| 3 | turkey            | avocado      | <!----> | <!----> | <!----> | <!----> | <!----> | <!----> | <!----> | <!----> | <!----> | <!----> | <!----> | <!----> | <!----> | <!----> | <!----> | <!----> | <!----> | NA |\n| 4 | mineral water     | milk         | energy bar | whole wheat rice | green tea | <!----> | <!----> | <!----> | <!----> | <!----> | <!----> | <!----> | <!----> | <!----> | <!----> | <!----> | <!----> | <!----> | <!----> | NA |\n| 5 | low fat yogurt    | <!----> | <!----> | <!----> | <!----> | <!----> | <!----> | <!----> | <!----> | <!----> | <!----> | <!----> | <!----> | <!----> | <!----> | <!----> | <!----> | <!----> | <!----> | NA |\n| 6 | whole wheat pasta | french fries | <!----> | <!----> | <!----> | <!----> | <!----> | <!----> | <!----> | <!----> | <!----> | <!----> | <!----> | <!----> | <!----> | <!----> | <!----> | <!----> | <!----> | NA |\n\n",
            "text/latex": "A data.frame: 6 × 20\n\\begin{tabular}{r|llllllllllllllllllll}\n  & shrimp & almonds & avocado & vegetables.mix & green.grapes & whole.weat.flour & yams & cottage.cheese & energy.drink & tomato.juice & low.fat.yogurt & green.tea & honey & salad & mineral.water & salmon & antioxydant.juice & frozen.smoothie & spinach & olive.oil\\\\\n  & <chr> & <chr> & <chr> & <chr> & <chr> & <chr> & <chr> & <chr> & <chr> & <chr> & <chr> & <chr> & <chr> & <chr> & <chr> & <chr> & <chr> & <chr> & <chr> & <lgl>\\\\\n\\hline\n\t1 & burgers           & meatballs    & eggs       &                  &           &  &  &  &  &  &  &  &  &  &  &  &  &  &  & NA\\\\\n\t2 & chutney           &              &            &                  &           &  &  &  &  &  &  &  &  &  &  &  &  &  &  & NA\\\\\n\t3 & turkey            & avocado      &            &                  &           &  &  &  &  &  &  &  &  &  &  &  &  &  &  & NA\\\\\n\t4 & mineral water     & milk         & energy bar & whole wheat rice & green tea &  &  &  &  &  &  &  &  &  &  &  &  &  &  & NA\\\\\n\t5 & low fat yogurt    &              &            &                  &           &  &  &  &  &  &  &  &  &  &  &  &  &  &  & NA\\\\\n\t6 & whole wheat pasta & french fries &            &                  &           &  &  &  &  &  &  &  &  &  &  &  &  &  &  & NA\\\\\n\\end{tabular}\n",
            "text/plain": [
              "  shrimp            almonds      avocado    vegetables.mix   green.grapes\n",
              "1 burgers           meatballs    eggs                                    \n",
              "2 chutney                                                                \n",
              "3 turkey            avocado                                              \n",
              "4 mineral water     milk         energy bar whole wheat rice green tea   \n",
              "5 low fat yogurt                                                         \n",
              "6 whole wheat pasta french fries                                         \n",
              "  whole.weat.flour yams cottage.cheese energy.drink tomato.juice low.fat.yogurt\n",
              "1                                                                              \n",
              "2                                                                              \n",
              "3                                                                              \n",
              "4                                                                              \n",
              "5                                                                              \n",
              "6                                                                              \n",
              "  green.tea honey salad mineral.water salmon antioxydant.juice frozen.smoothie\n",
              "1                                                                             \n",
              "2                                                                             \n",
              "3                                                                             \n",
              "4                                                                             \n",
              "5                                                                             \n",
              "6                                                                             \n",
              "  spinach olive.oil\n",
              "1         NA       \n",
              "2         NA       \n",
              "3         NA       \n",
              "4         NA       \n",
              "5         NA       \n",
              "6         NA       "
            ]
          },
          "metadata": {}
        }
      ]
    },
    {
      "cell_type": "code",
      "source": [
        "# Checking the bottom rows of our data\n",
        "\n",
        "tail(data2)"
      ],
      "metadata": {
        "colab": {
          "base_uri": "https://localhost:8080/",
          "height": 358
        },
        "id": "fxU53IemTPzf",
        "outputId": "24cb0888-2e8f-4d6d-a462-6f78b3db0d04"
      },
      "execution_count": null,
      "outputs": [
        {
          "output_type": "display_data",
          "data": {
            "text/html": [
              "<table class=\"dataframe\">\n",
              "<caption>A data.frame: 6 × 20</caption>\n",
              "<thead>\n",
              "\t<tr><th></th><th scope=col>shrimp</th><th scope=col>almonds</th><th scope=col>avocado</th><th scope=col>vegetables.mix</th><th scope=col>green.grapes</th><th scope=col>whole.weat.flour</th><th scope=col>yams</th><th scope=col>cottage.cheese</th><th scope=col>energy.drink</th><th scope=col>tomato.juice</th><th scope=col>low.fat.yogurt</th><th scope=col>green.tea</th><th scope=col>honey</th><th scope=col>salad</th><th scope=col>mineral.water</th><th scope=col>salmon</th><th scope=col>antioxydant.juice</th><th scope=col>frozen.smoothie</th><th scope=col>spinach</th><th scope=col>olive.oil</th></tr>\n",
              "\t<tr><th></th><th scope=col>&lt;chr&gt;</th><th scope=col>&lt;chr&gt;</th><th scope=col>&lt;chr&gt;</th><th scope=col>&lt;chr&gt;</th><th scope=col>&lt;chr&gt;</th><th scope=col>&lt;chr&gt;</th><th scope=col>&lt;chr&gt;</th><th scope=col>&lt;chr&gt;</th><th scope=col>&lt;chr&gt;</th><th scope=col>&lt;chr&gt;</th><th scope=col>&lt;chr&gt;</th><th scope=col>&lt;chr&gt;</th><th scope=col>&lt;chr&gt;</th><th scope=col>&lt;chr&gt;</th><th scope=col>&lt;chr&gt;</th><th scope=col>&lt;chr&gt;</th><th scope=col>&lt;chr&gt;</th><th scope=col>&lt;chr&gt;</th><th scope=col>&lt;chr&gt;</th><th scope=col>&lt;lgl&gt;</th></tr>\n",
              "</thead>\n",
              "<tbody>\n",
              "\t<tr><th scope=row>7495</th><td>pancakes</td><td>light mayo       </td><td>           </td><td>              </td><td>         </td><td>         </td><td></td><td></td><td></td><td></td><td></td><td></td><td></td><td></td><td></td><td></td><td></td><td></td><td></td><td>NA</td></tr>\n",
              "\t<tr><th scope=row>7496</th><td>butter  </td><td>light mayo       </td><td>fresh bread</td><td>              </td><td>         </td><td>         </td><td></td><td></td><td></td><td></td><td></td><td></td><td></td><td></td><td></td><td></td><td></td><td></td><td></td><td>NA</td></tr>\n",
              "\t<tr><th scope=row>7497</th><td>burgers </td><td>frozen vegetables</td><td>eggs       </td><td>french fries  </td><td>magazines</td><td>green tea</td><td></td><td></td><td></td><td></td><td></td><td></td><td></td><td></td><td></td><td></td><td></td><td></td><td></td><td>NA</td></tr>\n",
              "\t<tr><th scope=row>7498</th><td>chicken </td><td>                 </td><td>           </td><td>              </td><td>         </td><td>         </td><td></td><td></td><td></td><td></td><td></td><td></td><td></td><td></td><td></td><td></td><td></td><td></td><td></td><td>NA</td></tr>\n",
              "\t<tr><th scope=row>7499</th><td>escalope</td><td>green tea        </td><td>           </td><td>              </td><td>         </td><td>         </td><td></td><td></td><td></td><td></td><td></td><td></td><td></td><td></td><td></td><td></td><td></td><td></td><td></td><td>NA</td></tr>\n",
              "\t<tr><th scope=row>7500</th><td>eggs    </td><td>frozen smoothie  </td><td>yogurt cake</td><td>low fat yogurt</td><td>         </td><td>         </td><td></td><td></td><td></td><td></td><td></td><td></td><td></td><td></td><td></td><td></td><td></td><td></td><td></td><td>NA</td></tr>\n",
              "</tbody>\n",
              "</table>\n"
            ],
            "text/markdown": "\nA data.frame: 6 × 20\n\n| <!--/--> | shrimp &lt;chr&gt; | almonds &lt;chr&gt; | avocado &lt;chr&gt; | vegetables.mix &lt;chr&gt; | green.grapes &lt;chr&gt; | whole.weat.flour &lt;chr&gt; | yams &lt;chr&gt; | cottage.cheese &lt;chr&gt; | energy.drink &lt;chr&gt; | tomato.juice &lt;chr&gt; | low.fat.yogurt &lt;chr&gt; | green.tea &lt;chr&gt; | honey &lt;chr&gt; | salad &lt;chr&gt; | mineral.water &lt;chr&gt; | salmon &lt;chr&gt; | antioxydant.juice &lt;chr&gt; | frozen.smoothie &lt;chr&gt; | spinach &lt;chr&gt; | olive.oil &lt;lgl&gt; |\n|---|---|---|---|---|---|---|---|---|---|---|---|---|---|---|---|---|---|---|---|---|\n| 7495 | pancakes | light mayo        | <!----> | <!----> | <!----> | <!----> | <!----> | <!----> | <!----> | <!----> | <!----> | <!----> | <!----> | <!----> | <!----> | <!----> | <!----> | <!----> | <!----> | NA |\n| 7496 | butter   | light mayo        | fresh bread | <!----> | <!----> | <!----> | <!----> | <!----> | <!----> | <!----> | <!----> | <!----> | <!----> | <!----> | <!----> | <!----> | <!----> | <!----> | <!----> | NA |\n| 7497 | burgers  | frozen vegetables | eggs        | french fries   | magazines | green tea | <!----> | <!----> | <!----> | <!----> | <!----> | <!----> | <!----> | <!----> | <!----> | <!----> | <!----> | <!----> | <!----> | NA |\n| 7498 | chicken  | <!----> | <!----> | <!----> | <!----> | <!----> | <!----> | <!----> | <!----> | <!----> | <!----> | <!----> | <!----> | <!----> | <!----> | <!----> | <!----> | <!----> | <!----> | NA |\n| 7499 | escalope | green tea         | <!----> | <!----> | <!----> | <!----> | <!----> | <!----> | <!----> | <!----> | <!----> | <!----> | <!----> | <!----> | <!----> | <!----> | <!----> | <!----> | <!----> | NA |\n| 7500 | eggs     | frozen smoothie   | yogurt cake | low fat yogurt | <!----> | <!----> | <!----> | <!----> | <!----> | <!----> | <!----> | <!----> | <!----> | <!----> | <!----> | <!----> | <!----> | <!----> | <!----> | NA |\n\n",
            "text/latex": "A data.frame: 6 × 20\n\\begin{tabular}{r|llllllllllllllllllll}\n  & shrimp & almonds & avocado & vegetables.mix & green.grapes & whole.weat.flour & yams & cottage.cheese & energy.drink & tomato.juice & low.fat.yogurt & green.tea & honey & salad & mineral.water & salmon & antioxydant.juice & frozen.smoothie & spinach & olive.oil\\\\\n  & <chr> & <chr> & <chr> & <chr> & <chr> & <chr> & <chr> & <chr> & <chr> & <chr> & <chr> & <chr> & <chr> & <chr> & <chr> & <chr> & <chr> & <chr> & <chr> & <lgl>\\\\\n\\hline\n\t7495 & pancakes & light mayo        &             &                &           &           &  &  &  &  &  &  &  &  &  &  &  &  &  & NA\\\\\n\t7496 & butter   & light mayo        & fresh bread &                &           &           &  &  &  &  &  &  &  &  &  &  &  &  &  & NA\\\\\n\t7497 & burgers  & frozen vegetables & eggs        & french fries   & magazines & green tea &  &  &  &  &  &  &  &  &  &  &  &  &  & NA\\\\\n\t7498 & chicken  &                   &             &                &           &           &  &  &  &  &  &  &  &  &  &  &  &  &  & NA\\\\\n\t7499 & escalope & green tea         &             &                &           &           &  &  &  &  &  &  &  &  &  &  &  &  &  & NA\\\\\n\t7500 & eggs     & frozen smoothie   & yogurt cake & low fat yogurt &           &           &  &  &  &  &  &  &  &  &  &  &  &  &  & NA\\\\\n\\end{tabular}\n",
            "text/plain": [
              "     shrimp   almonds           avocado     vegetables.mix green.grapes\n",
              "7495 pancakes light mayo                                               \n",
              "7496 butter   light mayo        fresh bread                            \n",
              "7497 burgers  frozen vegetables eggs        french fries   magazines   \n",
              "7498 chicken                                                           \n",
              "7499 escalope green tea                                                \n",
              "7500 eggs     frozen smoothie   yogurt cake low fat yogurt             \n",
              "     whole.weat.flour yams cottage.cheese energy.drink tomato.juice\n",
              "7495                                                               \n",
              "7496                                                               \n",
              "7497 green tea                                                     \n",
              "7498                                                               \n",
              "7499                                                               \n",
              "7500                                                               \n",
              "     low.fat.yogurt green.tea honey salad mineral.water salmon\n",
              "7495                                                          \n",
              "7496                                                          \n",
              "7497                                                          \n",
              "7498                                                          \n",
              "7499                                                          \n",
              "7500                                                          \n",
              "     antioxydant.juice frozen.smoothie spinach olive.oil\n",
              "7495                                           NA       \n",
              "7496                                           NA       \n",
              "7497                                           NA       \n",
              "7498                                           NA       \n",
              "7499                                           NA       \n",
              "7500                                           NA       "
            ]
          },
          "metadata": {}
        }
      ]
    },
    {
      "cell_type": "code",
      "source": [
        "# Checking the shape of our data\n",
        "\n",
        "dim(data2)"
      ],
      "metadata": {
        "colab": {
          "base_uri": "https://localhost:8080/",
          "height": 34
        },
        "id": "UpOrdKNPTS0Q",
        "outputId": "39496910-7f3d-4084-9295-25a1b3002c82"
      },
      "execution_count": null,
      "outputs": [
        {
          "output_type": "display_data",
          "data": {
            "text/html": [
              "<style>\n",
              ".list-inline {list-style: none; margin:0; padding: 0}\n",
              ".list-inline>li {display: inline-block}\n",
              ".list-inline>li:not(:last-child)::after {content: \"\\00b7\"; padding: 0 .5ex}\n",
              "</style>\n",
              "<ol class=list-inline><li>7500</li><li>20</li></ol>\n"
            ],
            "text/markdown": "1. 7500\n2. 20\n\n\n",
            "text/latex": "\\begin{enumerate*}\n\\item 7500\n\\item 20\n\\end{enumerate*}\n",
            "text/plain": [
              "[1] 7500   20"
            ]
          },
          "metadata": {}
        }
      ]
    },
    {
      "cell_type": "code",
      "source": [
        "# Check the data types of the columns\n",
        "\n",
        "sapply(data2, class)"
      ],
      "metadata": {
        "colab": {
          "base_uri": "https://localhost:8080/",
          "height": 69
        },
        "id": "oHORjIW8jkgk",
        "outputId": "dd437f1c-e69d-4e19-9dc6-0efc7b42eac3"
      },
      "execution_count": null,
      "outputs": [
        {
          "output_type": "display_data",
          "data": {
            "text/html": [
              "<style>\n",
              ".dl-inline {width: auto; margin:0; padding: 0}\n",
              ".dl-inline>dt, .dl-inline>dd {float: none; width: auto; display: inline-block}\n",
              ".dl-inline>dt::after {content: \":\\0020\"; padding-right: .5ex}\n",
              ".dl-inline>dt:not(:first-of-type) {padding-left: .5ex}\n",
              "</style><dl class=dl-inline><dt>shrimp</dt><dd>'character'</dd><dt>almonds</dt><dd>'character'</dd><dt>avocado</dt><dd>'character'</dd><dt>vegetables.mix</dt><dd>'character'</dd><dt>green.grapes</dt><dd>'character'</dd><dt>whole.weat.flour</dt><dd>'character'</dd><dt>yams</dt><dd>'character'</dd><dt>cottage.cheese</dt><dd>'character'</dd><dt>energy.drink</dt><dd>'character'</dd><dt>tomato.juice</dt><dd>'character'</dd><dt>low.fat.yogurt</dt><dd>'character'</dd><dt>green.tea</dt><dd>'character'</dd><dt>honey</dt><dd>'character'</dd><dt>salad</dt><dd>'character'</dd><dt>mineral.water</dt><dd>'character'</dd><dt>salmon</dt><dd>'character'</dd><dt>antioxydant.juice</dt><dd>'character'</dd><dt>frozen.smoothie</dt><dd>'character'</dd><dt>spinach</dt><dd>'character'</dd><dt>olive.oil</dt><dd>'logical'</dd></dl>\n"
            ],
            "text/markdown": "shrimp\n:   'character'almonds\n:   'character'avocado\n:   'character'vegetables.mix\n:   'character'green.grapes\n:   'character'whole.weat.flour\n:   'character'yams\n:   'character'cottage.cheese\n:   'character'energy.drink\n:   'character'tomato.juice\n:   'character'low.fat.yogurt\n:   'character'green.tea\n:   'character'honey\n:   'character'salad\n:   'character'mineral.water\n:   'character'salmon\n:   'character'antioxydant.juice\n:   'character'frozen.smoothie\n:   'character'spinach\n:   'character'olive.oil\n:   'logical'\n\n",
            "text/latex": "\\begin{description*}\n\\item[shrimp] 'character'\n\\item[almonds] 'character'\n\\item[avocado] 'character'\n\\item[vegetables.mix] 'character'\n\\item[green.grapes] 'character'\n\\item[whole.weat.flour] 'character'\n\\item[yams] 'character'\n\\item[cottage.cheese] 'character'\n\\item[energy.drink] 'character'\n\\item[tomato.juice] 'character'\n\\item[low.fat.yogurt] 'character'\n\\item[green.tea] 'character'\n\\item[honey] 'character'\n\\item[salad] 'character'\n\\item[mineral.water] 'character'\n\\item[salmon] 'character'\n\\item[antioxydant.juice] 'character'\n\\item[frozen.smoothie] 'character'\n\\item[spinach] 'character'\n\\item[olive.oil] 'logical'\n\\end{description*}\n",
            "text/plain": [
              "           shrimp           almonds           avocado    vegetables.mix \n",
              "      \"character\"       \"character\"       \"character\"       \"character\" \n",
              "     green.grapes  whole.weat.flour              yams    cottage.cheese \n",
              "      \"character\"       \"character\"       \"character\"       \"character\" \n",
              "     energy.drink      tomato.juice    low.fat.yogurt         green.tea \n",
              "      \"character\"       \"character\"       \"character\"       \"character\" \n",
              "            honey             salad     mineral.water            salmon \n",
              "      \"character\"       \"character\"       \"character\"       \"character\" \n",
              "antioxydant.juice   frozen.smoothie           spinach         olive.oil \n",
              "      \"character\"       \"character\"       \"character\"         \"logical\" "
            ]
          },
          "metadata": {}
        }
      ]
    },
    {
      "cell_type": "code",
      "source": [
        "# Checking the structure/data types of our data\n",
        "\n",
        "str(data2)"
      ],
      "metadata": {
        "colab": {
          "base_uri": "https://localhost:8080/"
        },
        "id": "jS1ttlurTZwP",
        "outputId": "c5b57a31-0d50-47d6-f60f-7b3e9245a43a"
      },
      "execution_count": null,
      "outputs": [
        {
          "output_type": "stream",
          "name": "stdout",
          "text": [
            "'data.frame':\t7500 obs. of  20 variables:\n",
            " $ shrimp           : chr  \"burgers\" \"chutney\" \"turkey\" \"mineral water\" ...\n",
            " $ almonds          : chr  \"meatballs\" \"\" \"avocado\" \"milk\" ...\n",
            " $ avocado          : chr  \"eggs\" \"\" \"\" \"energy bar\" ...\n",
            " $ vegetables.mix   : chr  \"\" \"\" \"\" \"whole wheat rice\" ...\n",
            " $ green.grapes     : chr  \"\" \"\" \"\" \"green tea\" ...\n",
            " $ whole.weat.flour : chr  \"\" \"\" \"\" \"\" ...\n",
            " $ yams             : chr  \"\" \"\" \"\" \"\" ...\n",
            " $ cottage.cheese   : chr  \"\" \"\" \"\" \"\" ...\n",
            " $ energy.drink     : chr  \"\" \"\" \"\" \"\" ...\n",
            " $ tomato.juice     : chr  \"\" \"\" \"\" \"\" ...\n",
            " $ low.fat.yogurt   : chr  \"\" \"\" \"\" \"\" ...\n",
            " $ green.tea        : chr  \"\" \"\" \"\" \"\" ...\n",
            " $ honey            : chr  \"\" \"\" \"\" \"\" ...\n",
            " $ salad            : chr  \"\" \"\" \"\" \"\" ...\n",
            " $ mineral.water    : chr  \"\" \"\" \"\" \"\" ...\n",
            " $ salmon           : chr  \"\" \"\" \"\" \"\" ...\n",
            " $ antioxydant.juice: chr  \"\" \"\" \"\" \"\" ...\n",
            " $ frozen.smoothie  : chr  \"\" \"\" \"\" \"\" ...\n",
            " $ spinach          : chr  \"\" \"\" \"\" \"\" ...\n",
            " $ olive.oil        : logi  NA NA NA NA NA NA ...\n"
          ]
        }
      ]
    },
    {
      "cell_type": "code",
      "source": [
        "# Checking the attributes of the dataset\n",
        "\n",
        "class(data2)"
      ],
      "metadata": {
        "colab": {
          "base_uri": "https://localhost:8080/",
          "height": 34
        },
        "id": "M1cYXlg5TeOy",
        "outputId": "4fc121ae-07dd-4e2d-c72c-b041d5c31b34"
      },
      "execution_count": null,
      "outputs": [
        {
          "output_type": "display_data",
          "data": {
            "text/html": [
              "'data.frame'"
            ],
            "text/markdown": "'data.frame'",
            "text/latex": "'data.frame'",
            "text/plain": [
              "[1] \"data.frame\""
            ]
          },
          "metadata": {}
        }
      ]
    },
    {
      "cell_type": "code",
      "source": [
        "# Highlighting our column names \n",
        "\n",
        "colnames(data2)"
      ],
      "metadata": {
        "colab": {
          "base_uri": "https://localhost:8080/",
          "height": 52
        },
        "id": "qbdvShBqThTp",
        "outputId": "da90de59-2a7d-4ada-f5fb-50b86c7fdbc0"
      },
      "execution_count": null,
      "outputs": [
        {
          "output_type": "display_data",
          "data": {
            "text/html": [
              "<style>\n",
              ".list-inline {list-style: none; margin:0; padding: 0}\n",
              ".list-inline>li {display: inline-block}\n",
              ".list-inline>li:not(:last-child)::after {content: \"\\00b7\"; padding: 0 .5ex}\n",
              "</style>\n",
              "<ol class=list-inline><li>'shrimp'</li><li>'almonds'</li><li>'avocado'</li><li>'vegetables.mix'</li><li>'green.grapes'</li><li>'whole.weat.flour'</li><li>'yams'</li><li>'cottage.cheese'</li><li>'energy.drink'</li><li>'tomato.juice'</li><li>'low.fat.yogurt'</li><li>'green.tea'</li><li>'honey'</li><li>'salad'</li><li>'mineral.water'</li><li>'salmon'</li><li>'antioxydant.juice'</li><li>'frozen.smoothie'</li><li>'spinach'</li><li>'olive.oil'</li></ol>\n"
            ],
            "text/markdown": "1. 'shrimp'\n2. 'almonds'\n3. 'avocado'\n4. 'vegetables.mix'\n5. 'green.grapes'\n6. 'whole.weat.flour'\n7. 'yams'\n8. 'cottage.cheese'\n9. 'energy.drink'\n10. 'tomato.juice'\n11. 'low.fat.yogurt'\n12. 'green.tea'\n13. 'honey'\n14. 'salad'\n15. 'mineral.water'\n16. 'salmon'\n17. 'antioxydant.juice'\n18. 'frozen.smoothie'\n19. 'spinach'\n20. 'olive.oil'\n\n\n",
            "text/latex": "\\begin{enumerate*}\n\\item 'shrimp'\n\\item 'almonds'\n\\item 'avocado'\n\\item 'vegetables.mix'\n\\item 'green.grapes'\n\\item 'whole.weat.flour'\n\\item 'yams'\n\\item 'cottage.cheese'\n\\item 'energy.drink'\n\\item 'tomato.juice'\n\\item 'low.fat.yogurt'\n\\item 'green.tea'\n\\item 'honey'\n\\item 'salad'\n\\item 'mineral.water'\n\\item 'salmon'\n\\item 'antioxydant.juice'\n\\item 'frozen.smoothie'\n\\item 'spinach'\n\\item 'olive.oil'\n\\end{enumerate*}\n",
            "text/plain": [
              " [1] \"shrimp\"            \"almonds\"           \"avocado\"          \n",
              " [4] \"vegetables.mix\"    \"green.grapes\"      \"whole.weat.flour\" \n",
              " [7] \"yams\"              \"cottage.cheese\"    \"energy.drink\"     \n",
              "[10] \"tomato.juice\"      \"low.fat.yogurt\"    \"green.tea\"        \n",
              "[13] \"honey\"             \"salad\"             \"mineral.water\"    \n",
              "[16] \"salmon\"            \"antioxydant.juice\" \"frozen.smoothie\"  \n",
              "[19] \"spinach\"           \"olive.oil\"        "
            ]
          },
          "metadata": {}
        }
      ]
    },
    {
      "cell_type": "code",
      "source": [
        "# Having a glimpse of our data\n",
        "\n",
        "glimpse(data2)"
      ],
      "metadata": {
        "colab": {
          "base_uri": "https://localhost:8080/"
        },
        "id": "tUrK9k3T8GCy",
        "outputId": "b94b8800-a987-4e2d-c15d-f57728c0a598"
      },
      "execution_count": null,
      "outputs": [
        {
          "output_type": "stream",
          "name": "stdout",
          "text": [
            "Rows: 7,500\n",
            "Columns: 20\n",
            "$ shrimp            \u001b[3m\u001b[90m<chr>\u001b[39m\u001b[23m \"burgers\", \"chutney\", \"turkey\", \"mineral water\", \"lo…\n",
            "$ almonds           \u001b[3m\u001b[90m<chr>\u001b[39m\u001b[23m \"meatballs\", \"\", \"avocado\", \"milk\", \"\", \"french frie…\n",
            "$ avocado           \u001b[3m\u001b[90m<chr>\u001b[39m\u001b[23m \"eggs\", \"\", \"\", \"energy bar\", \"\", \"\", \"shallot\", \"gr…\n",
            "$ vegetables.mix    \u001b[3m\u001b[90m<chr>\u001b[39m\u001b[23m \"\", \"\", \"\", \"whole wheat rice\", \"\", \"\", \"\", \"\", \"\", …\n",
            "$ green.grapes      \u001b[3m\u001b[90m<chr>\u001b[39m\u001b[23m \"\", \"\", \"\", \"green tea\", \"\", \"\", \"\", \"\", \"\", \"\", \"\",…\n",
            "$ whole.weat.flour  \u001b[3m\u001b[90m<chr>\u001b[39m\u001b[23m \"\", \"\", \"\", \"\", \"\", \"\", \"\", \"\", \"\", \"\", \"\", \"\", \"\", …\n",
            "$ yams              \u001b[3m\u001b[90m<chr>\u001b[39m\u001b[23m \"\", \"\", \"\", \"\", \"\", \"\", \"\", \"\", \"\", \"\", \"\", \"\", \"\", …\n",
            "$ cottage.cheese    \u001b[3m\u001b[90m<chr>\u001b[39m\u001b[23m \"\", \"\", \"\", \"\", \"\", \"\", \"\", \"\", \"\", \"\", \"\", \"\", \"\", …\n",
            "$ energy.drink      \u001b[3m\u001b[90m<chr>\u001b[39m\u001b[23m \"\", \"\", \"\", \"\", \"\", \"\", \"\", \"\", \"\", \"\", \"\", \"\", \"\", …\n",
            "$ tomato.juice      \u001b[3m\u001b[90m<chr>\u001b[39m\u001b[23m \"\", \"\", \"\", \"\", \"\", \"\", \"\", \"\", \"\", \"\", \"\", \"\", \"\", …\n",
            "$ low.fat.yogurt    \u001b[3m\u001b[90m<chr>\u001b[39m\u001b[23m \"\", \"\", \"\", \"\", \"\", \"\", \"\", \"\", \"\", \"\", \"\", \"\", \"\", …\n",
            "$ green.tea         \u001b[3m\u001b[90m<chr>\u001b[39m\u001b[23m \"\", \"\", \"\", \"\", \"\", \"\", \"\", \"\", \"\", \"\", \"\", \"\", \"\", …\n",
            "$ honey             \u001b[3m\u001b[90m<chr>\u001b[39m\u001b[23m \"\", \"\", \"\", \"\", \"\", \"\", \"\", \"\", \"\", \"\", \"\", \"\", \"\", …\n",
            "$ salad             \u001b[3m\u001b[90m<chr>\u001b[39m\u001b[23m \"\", \"\", \"\", \"\", \"\", \"\", \"\", \"\", \"\", \"\", \"\", \"\", \"\", …\n",
            "$ mineral.water     \u001b[3m\u001b[90m<chr>\u001b[39m\u001b[23m \"\", \"\", \"\", \"\", \"\", \"\", \"\", \"\", \"\", \"\", \"\", \"\", \"\", …\n",
            "$ salmon            \u001b[3m\u001b[90m<chr>\u001b[39m\u001b[23m \"\", \"\", \"\", \"\", \"\", \"\", \"\", \"\", \"\", \"\", \"\", \"\", \"\", …\n",
            "$ antioxydant.juice \u001b[3m\u001b[90m<chr>\u001b[39m\u001b[23m \"\", \"\", \"\", \"\", \"\", \"\", \"\", \"\", \"\", \"\", \"\", \"\", \"\", …\n",
            "$ frozen.smoothie   \u001b[3m\u001b[90m<chr>\u001b[39m\u001b[23m \"\", \"\", \"\", \"\", \"\", \"\", \"\", \"\", \"\", \"\", \"\", \"\", \"\", …\n",
            "$ spinach           \u001b[3m\u001b[90m<chr>\u001b[39m\u001b[23m \"\", \"\", \"\", \"\", \"\", \"\", \"\", \"\", \"\", \"\", \"\", \"\", \"\", …\n",
            "$ olive.oil         \u001b[3m\u001b[90m<lgl>\u001b[39m\u001b[23m NA, NA, NA, NA, NA, NA, NA, NA, NA, NA, NA, NA, NA, …\n"
          ]
        }
      ]
    },
    {
      "cell_type": "code",
      "source": [
        "# Checking for sum of null values\n",
        "\n",
        "colSums(is.na(data2))"
      ],
      "metadata": {
        "colab": {
          "base_uri": "https://localhost:8080/",
          "height": 52
        },
        "id": "FAga0yiiU7Yh",
        "outputId": "a427556e-d669-4a3b-f4da-2497a12617c5"
      },
      "execution_count": null,
      "outputs": [
        {
          "output_type": "display_data",
          "data": {
            "text/html": [
              "<style>\n",
              ".dl-inline {width: auto; margin:0; padding: 0}\n",
              ".dl-inline>dt, .dl-inline>dd {float: none; width: auto; display: inline-block}\n",
              ".dl-inline>dt::after {content: \":\\0020\"; padding-right: .5ex}\n",
              ".dl-inline>dt:not(:first-of-type) {padding-left: .5ex}\n",
              "</style><dl class=dl-inline><dt>shrimp</dt><dd>0</dd><dt>almonds</dt><dd>0</dd><dt>avocado</dt><dd>0</dd><dt>vegetables.mix</dt><dd>0</dd><dt>green.grapes</dt><dd>0</dd><dt>whole.weat.flour</dt><dd>0</dd><dt>yams</dt><dd>0</dd><dt>cottage.cheese</dt><dd>0</dd><dt>energy.drink</dt><dd>0</dd><dt>tomato.juice</dt><dd>0</dd><dt>low.fat.yogurt</dt><dd>0</dd><dt>green.tea</dt><dd>0</dd><dt>honey</dt><dd>0</dd><dt>salad</dt><dd>0</dd><dt>mineral.water</dt><dd>0</dd><dt>salmon</dt><dd>0</dd><dt>antioxydant.juice</dt><dd>0</dd><dt>frozen.smoothie</dt><dd>0</dd><dt>spinach</dt><dd>0</dd><dt>olive.oil</dt><dd>7500</dd></dl>\n"
            ],
            "text/markdown": "shrimp\n:   0almonds\n:   0avocado\n:   0vegetables.mix\n:   0green.grapes\n:   0whole.weat.flour\n:   0yams\n:   0cottage.cheese\n:   0energy.drink\n:   0tomato.juice\n:   0low.fat.yogurt\n:   0green.tea\n:   0honey\n:   0salad\n:   0mineral.water\n:   0salmon\n:   0antioxydant.juice\n:   0frozen.smoothie\n:   0spinach\n:   0olive.oil\n:   7500\n\n",
            "text/latex": "\\begin{description*}\n\\item[shrimp] 0\n\\item[almonds] 0\n\\item[avocado] 0\n\\item[vegetables.mix] 0\n\\item[green.grapes] 0\n\\item[whole.weat.flour] 0\n\\item[yams] 0\n\\item[cottage.cheese] 0\n\\item[energy.drink] 0\n\\item[tomato.juice] 0\n\\item[low.fat.yogurt] 0\n\\item[green.tea] 0\n\\item[honey] 0\n\\item[salad] 0\n\\item[mineral.water] 0\n\\item[salmon] 0\n\\item[antioxydant.juice] 0\n\\item[frozen.smoothie] 0\n\\item[spinach] 0\n\\item[olive.oil] 7500\n\\end{description*}\n",
            "text/plain": [
              "           shrimp           almonds           avocado    vegetables.mix \n",
              "                0                 0                 0                 0 \n",
              "     green.grapes  whole.weat.flour              yams    cottage.cheese \n",
              "                0                 0                 0                 0 \n",
              "     energy.drink      tomato.juice    low.fat.yogurt         green.tea \n",
              "                0                 0                 0                 0 \n",
              "            honey             salad     mineral.water            salmon \n",
              "                0                 0                 0                 0 \n",
              "antioxydant.juice   frozen.smoothie           spinach         olive.oil \n",
              "                0                 0                 0              7500 "
            ]
          },
          "metadata": {}
        }
      ]
    },
    {
      "cell_type": "markdown",
      "source": [
        "**The OliveOil column has all its values as null. We will be dropping the column**"
      ],
      "metadata": {
        "id": "Rn5j3_eo8FBs"
      }
    },
    {
      "cell_type": "code",
      "source": [
        "# Dropping olive.oil column and verifying our columns using the colnames() functions\n",
        "\n",
        "data2$olive.oil <- NULL\n",
        "\n",
        "colnames(data2)"
      ],
      "metadata": {
        "colab": {
          "base_uri": "https://localhost:8080/",
          "height": 34
        },
        "id": "peaFAOKZ91va",
        "outputId": "0a3bf4e1-13fe-419a-eaca-2801b282c33f"
      },
      "execution_count": null,
      "outputs": [
        {
          "output_type": "display_data",
          "data": {
            "text/html": [
              "<style>\n",
              ".list-inline {list-style: none; margin:0; padding: 0}\n",
              ".list-inline>li {display: inline-block}\n",
              ".list-inline>li:not(:last-child)::after {content: \"\\00b7\"; padding: 0 .5ex}\n",
              "</style>\n",
              "<ol class=list-inline><li>'shrimp'</li><li>'almonds'</li><li>'avocado'</li><li>'vegetables.mix'</li><li>'green.grapes'</li><li>'whole.weat.flour'</li><li>'yams'</li><li>'cottage.cheese'</li><li>'energy.drink'</li><li>'tomato.juice'</li><li>'low.fat.yogurt'</li><li>'green.tea'</li><li>'honey'</li><li>'salad'</li><li>'mineral.water'</li><li>'salmon'</li><li>'antioxydant.juice'</li><li>'frozen.smoothie'</li><li>'spinach'</li></ol>\n"
            ],
            "text/markdown": "1. 'shrimp'\n2. 'almonds'\n3. 'avocado'\n4. 'vegetables.mix'\n5. 'green.grapes'\n6. 'whole.weat.flour'\n7. 'yams'\n8. 'cottage.cheese'\n9. 'energy.drink'\n10. 'tomato.juice'\n11. 'low.fat.yogurt'\n12. 'green.tea'\n13. 'honey'\n14. 'salad'\n15. 'mineral.water'\n16. 'salmon'\n17. 'antioxydant.juice'\n18. 'frozen.smoothie'\n19. 'spinach'\n\n\n",
            "text/latex": "\\begin{enumerate*}\n\\item 'shrimp'\n\\item 'almonds'\n\\item 'avocado'\n\\item 'vegetables.mix'\n\\item 'green.grapes'\n\\item 'whole.weat.flour'\n\\item 'yams'\n\\item 'cottage.cheese'\n\\item 'energy.drink'\n\\item 'tomato.juice'\n\\item 'low.fat.yogurt'\n\\item 'green.tea'\n\\item 'honey'\n\\item 'salad'\n\\item 'mineral.water'\n\\item 'salmon'\n\\item 'antioxydant.juice'\n\\item 'frozen.smoothie'\n\\item 'spinach'\n\\end{enumerate*}\n",
            "text/plain": [
              " [1] \"shrimp\"            \"almonds\"           \"avocado\"          \n",
              " [4] \"vegetables.mix\"    \"green.grapes\"      \"whole.weat.flour\" \n",
              " [7] \"yams\"              \"cottage.cheese\"    \"energy.drink\"     \n",
              "[10] \"tomato.juice\"      \"low.fat.yogurt\"    \"green.tea\"        \n",
              "[13] \"honey\"             \"salad\"             \"mineral.water\"    \n",
              "[16] \"salmon\"            \"antioxydant.juice\" \"frozen.smoothie\"  \n",
              "[19] \"spinach\"          "
            ]
          },
          "metadata": {}
        }
      ]
    },
    {
      "cell_type": "code",
      "source": [
        "# Now lets find the duplicated rows in the dataset \n",
        "# and assign to a variable duplicated_rows below\n",
        "\n",
        "duplicated_rows <- data2[duplicated(data2),]\n",
        "\n",
        "duplicated_rows"
      ],
      "metadata": {
        "colab": {
          "base_uri": "https://localhost:8080/",
          "height": 1000
        },
        "id": "NQQm88KXTofd",
        "outputId": "f9e3515f-0c09-40cd-81cf-ce3712e72eb9"
      },
      "execution_count": null,
      "outputs": [
        {
          "output_type": "display_data",
          "data": {
            "text/html": [
              "<table class=\"dataframe\">\n",
              "<caption>A data.frame: 2325 × 20</caption>\n",
              "<thead>\n",
              "\t<tr><th></th><th scope=col>shrimp</th><th scope=col>almonds</th><th scope=col>avocado</th><th scope=col>vegetables.mix</th><th scope=col>green.grapes</th><th scope=col>whole.weat.flour</th><th scope=col>yams</th><th scope=col>cottage.cheese</th><th scope=col>energy.drink</th><th scope=col>tomato.juice</th><th scope=col>low.fat.yogurt</th><th scope=col>green.tea</th><th scope=col>honey</th><th scope=col>salad</th><th scope=col>mineral.water</th><th scope=col>salmon</th><th scope=col>antioxydant.juice</th><th scope=col>frozen.smoothie</th><th scope=col>spinach</th><th scope=col>olive.oil</th></tr>\n",
              "\t<tr><th></th><th scope=col>&lt;chr&gt;</th><th scope=col>&lt;chr&gt;</th><th scope=col>&lt;chr&gt;</th><th scope=col>&lt;chr&gt;</th><th scope=col>&lt;chr&gt;</th><th scope=col>&lt;chr&gt;</th><th scope=col>&lt;chr&gt;</th><th scope=col>&lt;chr&gt;</th><th scope=col>&lt;chr&gt;</th><th scope=col>&lt;chr&gt;</th><th scope=col>&lt;chr&gt;</th><th scope=col>&lt;chr&gt;</th><th scope=col>&lt;chr&gt;</th><th scope=col>&lt;chr&gt;</th><th scope=col>&lt;chr&gt;</th><th scope=col>&lt;chr&gt;</th><th scope=col>&lt;chr&gt;</th><th scope=col>&lt;chr&gt;</th><th scope=col>&lt;chr&gt;</th><th scope=col>&lt;lgl&gt;</th></tr>\n",
              "</thead>\n",
              "<tbody>\n",
              "\t<tr><th scope=row>34</th><td>cookies       </td><td>         </td><td></td><td></td><td></td><td></td><td></td><td></td><td></td><td></td><td></td><td></td><td></td><td></td><td></td><td></td><td></td><td></td><td></td><td>NA</td></tr>\n",
              "\t<tr><th scope=row>42</th><td>spaghetti     </td><td>         </td><td></td><td></td><td></td><td></td><td></td><td></td><td></td><td></td><td></td><td></td><td></td><td></td><td></td><td></td><td></td><td></td><td></td><td>NA</td></tr>\n",
              "\t<tr><th scope=row>60</th><td>spaghetti     </td><td>         </td><td></td><td></td><td></td><td></td><td></td><td></td><td></td><td></td><td></td><td></td><td></td><td></td><td></td><td></td><td></td><td></td><td></td><td>NA</td></tr>\n",
              "\t<tr><th scope=row>64</th><td>turkey        </td><td>eggs     </td><td></td><td></td><td></td><td></td><td></td><td></td><td></td><td></td><td></td><td></td><td></td><td></td><td></td><td></td><td></td><td></td><td></td><td>NA</td></tr>\n",
              "\t<tr><th scope=row>65</th><td>french fries  </td><td>         </td><td></td><td></td><td></td><td></td><td></td><td></td><td></td><td></td><td></td><td></td><td></td><td></td><td></td><td></td><td></td><td></td><td></td><td>NA</td></tr>\n",
              "\t<tr><th scope=row>68</th><td>cookies       </td><td>         </td><td></td><td></td><td></td><td></td><td></td><td></td><td></td><td></td><td></td><td></td><td></td><td></td><td></td><td></td><td></td><td></td><td></td><td>NA</td></tr>\n",
              "\t<tr><th scope=row>72</th><td>cookies       </td><td>         </td><td></td><td></td><td></td><td></td><td></td><td></td><td></td><td></td><td></td><td></td><td></td><td></td><td></td><td></td><td></td><td></td><td></td><td>NA</td></tr>\n",
              "\t<tr><th scope=row>75</th><td>cookies       </td><td>         </td><td></td><td></td><td></td><td></td><td></td><td></td><td></td><td></td><td></td><td></td><td></td><td></td><td></td><td></td><td></td><td></td><td></td><td>NA</td></tr>\n",
              "\t<tr><th scope=row>87</th><td>low fat yogurt</td><td>         </td><td></td><td></td><td></td><td></td><td></td><td></td><td></td><td></td><td></td><td></td><td></td><td></td><td></td><td></td><td></td><td></td><td></td><td>NA</td></tr>\n",
              "\t<tr><th scope=row>90</th><td>low fat yogurt</td><td>         </td><td></td><td></td><td></td><td></td><td></td><td></td><td></td><td></td><td></td><td></td><td></td><td></td><td></td><td></td><td></td><td></td><td></td><td>NA</td></tr>\n",
              "\t<tr><th scope=row>98</th><td>cookies       </td><td>         </td><td></td><td></td><td></td><td></td><td></td><td></td><td></td><td></td><td></td><td></td><td></td><td></td><td></td><td></td><td></td><td></td><td></td><td>NA</td></tr>\n",
              "\t<tr><th scope=row>123</th><td>french fries  </td><td>         </td><td></td><td></td><td></td><td></td><td></td><td></td><td></td><td></td><td></td><td></td><td></td><td></td><td></td><td></td><td></td><td></td><td></td><td>NA</td></tr>\n",
              "\t<tr><th scope=row>124</th><td>chocolate     </td><td>milk     </td><td></td><td></td><td></td><td></td><td></td><td></td><td></td><td></td><td></td><td></td><td></td><td></td><td></td><td></td><td></td><td></td><td></td><td>NA</td></tr>\n",
              "\t<tr><th scope=row>135</th><td>cookies       </td><td>         </td><td></td><td></td><td></td><td></td><td></td><td></td><td></td><td></td><td></td><td></td><td></td><td></td><td></td><td></td><td></td><td></td><td></td><td>NA</td></tr>\n",
              "\t<tr><th scope=row>144</th><td>cookies       </td><td>         </td><td></td><td></td><td></td><td></td><td></td><td></td><td></td><td></td><td></td><td></td><td></td><td></td><td></td><td></td><td></td><td></td><td></td><td>NA</td></tr>\n",
              "\t<tr><th scope=row>148</th><td>chocolate     </td><td>milk     </td><td></td><td></td><td></td><td></td><td></td><td></td><td></td><td></td><td></td><td></td><td></td><td></td><td></td><td></td><td></td><td></td><td></td><td>NA</td></tr>\n",
              "\t<tr><th scope=row>152</th><td>cookies       </td><td>         </td><td></td><td></td><td></td><td></td><td></td><td></td><td></td><td></td><td></td><td></td><td></td><td></td><td></td><td></td><td></td><td></td><td></td><td>NA</td></tr>\n",
              "\t<tr><th scope=row>163</th><td>low fat yogurt</td><td>         </td><td></td><td></td><td></td><td></td><td></td><td></td><td></td><td></td><td></td><td></td><td></td><td></td><td></td><td></td><td></td><td></td><td></td><td>NA</td></tr>\n",
              "\t<tr><th scope=row>167</th><td>cookies       </td><td>         </td><td></td><td></td><td></td><td></td><td></td><td></td><td></td><td></td><td></td><td></td><td></td><td></td><td></td><td></td><td></td><td></td><td></td><td>NA</td></tr>\n",
              "\t<tr><th scope=row>168</th><td>escalope      </td><td>         </td><td></td><td></td><td></td><td></td><td></td><td></td><td></td><td></td><td></td><td></td><td></td><td></td><td></td><td></td><td></td><td></td><td></td><td>NA</td></tr>\n",
              "\t<tr><th scope=row>175</th><td>muffins       </td><td>         </td><td></td><td></td><td></td><td></td><td></td><td></td><td></td><td></td><td></td><td></td><td></td><td></td><td></td><td></td><td></td><td></td><td></td><td>NA</td></tr>\n",
              "\t<tr><th scope=row>186</th><td>chocolate     </td><td>         </td><td></td><td></td><td></td><td></td><td></td><td></td><td></td><td></td><td></td><td></td><td></td><td></td><td></td><td></td><td></td><td></td><td></td><td>NA</td></tr>\n",
              "\t<tr><th scope=row>196</th><td>french fries  </td><td>         </td><td></td><td></td><td></td><td></td><td></td><td></td><td></td><td></td><td></td><td></td><td></td><td></td><td></td><td></td><td></td><td></td><td></td><td>NA</td></tr>\n",
              "\t<tr><th scope=row>197</th><td>chocolate     </td><td>         </td><td></td><td></td><td></td><td></td><td></td><td></td><td></td><td></td><td></td><td></td><td></td><td></td><td></td><td></td><td></td><td></td><td></td><td>NA</td></tr>\n",
              "\t<tr><th scope=row>201</th><td>low fat yogurt</td><td>         </td><td></td><td></td><td></td><td></td><td></td><td></td><td></td><td></td><td></td><td></td><td></td><td></td><td></td><td></td><td></td><td></td><td></td><td>NA</td></tr>\n",
              "\t<tr><th scope=row>203</th><td>turkey        </td><td>eggs     </td><td></td><td></td><td></td><td></td><td></td><td></td><td></td><td></td><td></td><td></td><td></td><td></td><td></td><td></td><td></td><td></td><td></td><td>NA</td></tr>\n",
              "\t<tr><th scope=row>213</th><td>cookies       </td><td>         </td><td></td><td></td><td></td><td></td><td></td><td></td><td></td><td></td><td></td><td></td><td></td><td></td><td></td><td></td><td></td><td></td><td></td><td>NA</td></tr>\n",
              "\t<tr><th scope=row>221</th><td>mineral water </td><td>         </td><td></td><td></td><td></td><td></td><td></td><td></td><td></td><td></td><td></td><td></td><td></td><td></td><td></td><td></td><td></td><td></td><td></td><td>NA</td></tr>\n",
              "\t<tr><th scope=row>230</th><td>milk          </td><td>         </td><td></td><td></td><td></td><td></td><td></td><td></td><td></td><td></td><td></td><td></td><td></td><td></td><td></td><td></td><td></td><td></td><td></td><td>NA</td></tr>\n",
              "\t<tr><th scope=row>231</th><td>spaghetti     </td><td>chocolate</td><td></td><td></td><td></td><td></td><td></td><td></td><td></td><td></td><td></td><td></td><td></td><td></td><td></td><td></td><td></td><td></td><td></td><td>NA</td></tr>\n",
              "\t<tr><th scope=row>⋮</th><td>⋮</td><td>⋮</td><td>⋮</td><td>⋮</td><td>⋮</td><td>⋮</td><td>⋮</td><td>⋮</td><td>⋮</td><td>⋮</td><td>⋮</td><td>⋮</td><td>⋮</td><td>⋮</td><td>⋮</td><td>⋮</td><td>⋮</td><td>⋮</td><td>⋮</td><td>⋮</td></tr>\n",
              "\t<tr><th scope=row>7422</th><td>soup          </td><td>milk                </td><td>              </td><td></td><td></td><td></td><td></td><td></td><td></td><td></td><td></td><td></td><td></td><td></td><td></td><td></td><td></td><td></td><td></td><td>NA</td></tr>\n",
              "\t<tr><th scope=row>7423</th><td>tomatoes      </td><td>                    </td><td>              </td><td></td><td></td><td></td><td></td><td></td><td></td><td></td><td></td><td></td><td></td><td></td><td></td><td></td><td></td><td></td><td></td><td>NA</td></tr>\n",
              "\t<tr><th scope=row>7424</th><td>energy bar    </td><td>eggs                </td><td>              </td><td></td><td></td><td></td><td></td><td></td><td></td><td></td><td></td><td></td><td></td><td></td><td></td><td></td><td></td><td></td><td></td><td>NA</td></tr>\n",
              "\t<tr><th scope=row>7425</th><td>french fries  </td><td>frozen smoothie     </td><td>cottage cheese</td><td></td><td></td><td></td><td></td><td></td><td></td><td></td><td></td><td></td><td></td><td></td><td></td><td></td><td></td><td></td><td></td><td>NA</td></tr>\n",
              "\t<tr><th scope=row>7426</th><td>low fat yogurt</td><td>                    </td><td>              </td><td></td><td></td><td></td><td></td><td></td><td></td><td></td><td></td><td></td><td></td><td></td><td></td><td></td><td></td><td></td><td></td><td>NA</td></tr>\n",
              "\t<tr><th scope=row>7436</th><td>green tea     </td><td>                    </td><td>              </td><td></td><td></td><td></td><td></td><td></td><td></td><td></td><td></td><td></td><td></td><td></td><td></td><td></td><td></td><td></td><td></td><td>NA</td></tr>\n",
              "\t<tr><th scope=row>7437</th><td>flax seed     </td><td>green tea           </td><td>              </td><td></td><td></td><td></td><td></td><td></td><td></td><td></td><td></td><td></td><td></td><td></td><td></td><td></td><td></td><td></td><td></td><td>NA</td></tr>\n",
              "\t<tr><th scope=row>7438</th><td>milk          </td><td>                    </td><td>              </td><td></td><td></td><td></td><td></td><td></td><td></td><td></td><td></td><td></td><td></td><td></td><td></td><td></td><td></td><td></td><td></td><td>NA</td></tr>\n",
              "\t<tr><th scope=row>7439</th><td>eggs          </td><td>mushroom cream sauce</td><td>              </td><td></td><td></td><td></td><td></td><td></td><td></td><td></td><td></td><td></td><td></td><td></td><td></td><td></td><td></td><td></td><td></td><td>NA</td></tr>\n",
              "\t<tr><th scope=row>7440</th><td>mineral water </td><td>cake                </td><td>              </td><td></td><td></td><td></td><td></td><td></td><td></td><td></td><td></td><td></td><td></td><td></td><td></td><td></td><td></td><td></td><td></td><td>NA</td></tr>\n",
              "\t<tr><th scope=row>7446</th><td>cookies       </td><td>                    </td><td>              </td><td></td><td></td><td></td><td></td><td></td><td></td><td></td><td></td><td></td><td></td><td></td><td></td><td></td><td></td><td></td><td></td><td>NA</td></tr>\n",
              "\t<tr><th scope=row>7448</th><td>melons        </td><td>                    </td><td>              </td><td></td><td></td><td></td><td></td><td></td><td></td><td></td><td></td><td></td><td></td><td></td><td></td><td></td><td></td><td></td><td></td><td>NA</td></tr>\n",
              "\t<tr><th scope=row>7453</th><td>almonds       </td><td>                    </td><td>              </td><td></td><td></td><td></td><td></td><td></td><td></td><td></td><td></td><td></td><td></td><td></td><td></td><td></td><td></td><td></td><td></td><td>NA</td></tr>\n",
              "\t<tr><th scope=row>7456</th><td>cider         </td><td>eggs                </td><td>              </td><td></td><td></td><td></td><td></td><td></td><td></td><td></td><td></td><td></td><td></td><td></td><td></td><td></td><td></td><td></td><td></td><td>NA</td></tr>\n",
              "\t<tr><th scope=row>7463</th><td>eggs          </td><td>                    </td><td>              </td><td></td><td></td><td></td><td></td><td></td><td></td><td></td><td></td><td></td><td></td><td></td><td></td><td></td><td></td><td></td><td></td><td>NA</td></tr>\n",
              "\t<tr><th scope=row>7466</th><td>yogurt cake   </td><td>                    </td><td>              </td><td></td><td></td><td></td><td></td><td></td><td></td><td></td><td></td><td></td><td></td><td></td><td></td><td></td><td></td><td></td><td></td><td>NA</td></tr>\n",
              "\t<tr><th scope=row>7468</th><td>herb &amp; pepper </td><td><span style=white-space:pre-wrap>eggs                </span></td><td><span style=white-space:pre-wrap>              </span></td><td></td><td></td><td></td><td></td><td></td><td></td><td></td><td></td><td></td><td></td><td></td><td></td><td></td><td></td><td></td><td></td><td>NA</td></tr>\n",
              "\t<tr><th scope=row>7470</th><td>french fries  </td><td>pancakes            </td><td>              </td><td></td><td></td><td></td><td></td><td></td><td></td><td></td><td></td><td></td><td></td><td></td><td></td><td></td><td></td><td></td><td></td><td>NA</td></tr>\n",
              "\t<tr><th scope=row>7471</th><td>mineral water </td><td>chocolate           </td><td>              </td><td></td><td></td><td></td><td></td><td></td><td></td><td></td><td></td><td></td><td></td><td></td><td></td><td></td><td></td><td></td><td></td><td>NA</td></tr>\n",
              "\t<tr><th scope=row>7477</th><td>tomato juice  </td><td>                    </td><td>              </td><td></td><td></td><td></td><td></td><td></td><td></td><td></td><td></td><td></td><td></td><td></td><td></td><td></td><td></td><td></td><td></td><td>NA</td></tr>\n",
              "\t<tr><th scope=row>7482</th><td>chocolate     </td><td>                    </td><td>              </td><td></td><td></td><td></td><td></td><td></td><td></td><td></td><td></td><td></td><td></td><td></td><td></td><td></td><td></td><td></td><td></td><td>NA</td></tr>\n",
              "\t<tr><th scope=row>7484</th><td>cookies       </td><td>energy drink        </td><td>              </td><td></td><td></td><td></td><td></td><td></td><td></td><td></td><td></td><td></td><td></td><td></td><td></td><td></td><td></td><td></td><td></td><td>NA</td></tr>\n",
              "\t<tr><th scope=row>7487</th><td>soup          </td><td>milk                </td><td>              </td><td></td><td></td><td></td><td></td><td></td><td></td><td></td><td></td><td></td><td></td><td></td><td></td><td></td><td></td><td></td><td></td><td>NA</td></tr>\n",
              "\t<tr><th scope=row>7488</th><td>eggs          </td><td>whole wheat rice    </td><td>              </td><td></td><td></td><td></td><td></td><td></td><td></td><td></td><td></td><td></td><td></td><td></td><td></td><td></td><td></td><td></td><td></td><td>NA</td></tr>\n",
              "\t<tr><th scope=row>7489</th><td>brownies      </td><td>                    </td><td>              </td><td></td><td></td><td></td><td></td><td></td><td></td><td></td><td></td><td></td><td></td><td></td><td></td><td></td><td></td><td></td><td></td><td>NA</td></tr>\n",
              "\t<tr><th scope=row>7491</th><td>herb &amp; pepper </td><td><span style=white-space:pre-wrap>                    </span></td><td><span style=white-space:pre-wrap>              </span></td><td></td><td></td><td></td><td></td><td></td><td></td><td></td><td></td><td></td><td></td><td></td><td></td><td></td><td></td><td></td><td></td><td>NA</td></tr>\n",
              "\t<tr><th scope=row>7492</th><td>chocolate     </td><td>escalope            </td><td>              </td><td></td><td></td><td></td><td></td><td></td><td></td><td></td><td></td><td></td><td></td><td></td><td></td><td></td><td></td><td></td><td></td><td>NA</td></tr>\n",
              "\t<tr><th scope=row>7495</th><td>pancakes      </td><td>light mayo          </td><td>              </td><td></td><td></td><td></td><td></td><td></td><td></td><td></td><td></td><td></td><td></td><td></td><td></td><td></td><td></td><td></td><td></td><td>NA</td></tr>\n",
              "\t<tr><th scope=row>7498</th><td>chicken       </td><td>                    </td><td>              </td><td></td><td></td><td></td><td></td><td></td><td></td><td></td><td></td><td></td><td></td><td></td><td></td><td></td><td></td><td></td><td></td><td>NA</td></tr>\n",
              "\t<tr><th scope=row>7499</th><td>escalope      </td><td>green tea           </td><td>              </td><td></td><td></td><td></td><td></td><td></td><td></td><td></td><td></td><td></td><td></td><td></td><td></td><td></td><td></td><td></td><td></td><td>NA</td></tr>\n",
              "</tbody>\n",
              "</table>\n"
            ],
            "text/markdown": "\nA data.frame: 2325 × 20\n\n| <!--/--> | shrimp &lt;chr&gt; | almonds &lt;chr&gt; | avocado &lt;chr&gt; | vegetables.mix &lt;chr&gt; | green.grapes &lt;chr&gt; | whole.weat.flour &lt;chr&gt; | yams &lt;chr&gt; | cottage.cheese &lt;chr&gt; | energy.drink &lt;chr&gt; | tomato.juice &lt;chr&gt; | low.fat.yogurt &lt;chr&gt; | green.tea &lt;chr&gt; | honey &lt;chr&gt; | salad &lt;chr&gt; | mineral.water &lt;chr&gt; | salmon &lt;chr&gt; | antioxydant.juice &lt;chr&gt; | frozen.smoothie &lt;chr&gt; | spinach &lt;chr&gt; | olive.oil &lt;lgl&gt; |\n|---|---|---|---|---|---|---|---|---|---|---|---|---|---|---|---|---|---|---|---|---|\n| 34 | cookies        | <!----> | <!----> | <!----> | <!----> | <!----> | <!----> | <!----> | <!----> | <!----> | <!----> | <!----> | <!----> | <!----> | <!----> | <!----> | <!----> | <!----> | <!----> | NA |\n| 42 | spaghetti      | <!----> | <!----> | <!----> | <!----> | <!----> | <!----> | <!----> | <!----> | <!----> | <!----> | <!----> | <!----> | <!----> | <!----> | <!----> | <!----> | <!----> | <!----> | NA |\n| 60 | spaghetti      | <!----> | <!----> | <!----> | <!----> | <!----> | <!----> | <!----> | <!----> | <!----> | <!----> | <!----> | <!----> | <!----> | <!----> | <!----> | <!----> | <!----> | <!----> | NA |\n| 64 | turkey         | eggs      | <!----> | <!----> | <!----> | <!----> | <!----> | <!----> | <!----> | <!----> | <!----> | <!----> | <!----> | <!----> | <!----> | <!----> | <!----> | <!----> | <!----> | NA |\n| 65 | french fries   | <!----> | <!----> | <!----> | <!----> | <!----> | <!----> | <!----> | <!----> | <!----> | <!----> | <!----> | <!----> | <!----> | <!----> | <!----> | <!----> | <!----> | <!----> | NA |\n| 68 | cookies        | <!----> | <!----> | <!----> | <!----> | <!----> | <!----> | <!----> | <!----> | <!----> | <!----> | <!----> | <!----> | <!----> | <!----> | <!----> | <!----> | <!----> | <!----> | NA |\n| 72 | cookies        | <!----> | <!----> | <!----> | <!----> | <!----> | <!----> | <!----> | <!----> | <!----> | <!----> | <!----> | <!----> | <!----> | <!----> | <!----> | <!----> | <!----> | <!----> | NA |\n| 75 | cookies        | <!----> | <!----> | <!----> | <!----> | <!----> | <!----> | <!----> | <!----> | <!----> | <!----> | <!----> | <!----> | <!----> | <!----> | <!----> | <!----> | <!----> | <!----> | NA |\n| 87 | low fat yogurt | <!----> | <!----> | <!----> | <!----> | <!----> | <!----> | <!----> | <!----> | <!----> | <!----> | <!----> | <!----> | <!----> | <!----> | <!----> | <!----> | <!----> | <!----> | NA |\n| 90 | low fat yogurt | <!----> | <!----> | <!----> | <!----> | <!----> | <!----> | <!----> | <!----> | <!----> | <!----> | <!----> | <!----> | <!----> | <!----> | <!----> | <!----> | <!----> | <!----> | NA |\n| 98 | cookies        | <!----> | <!----> | <!----> | <!----> | <!----> | <!----> | <!----> | <!----> | <!----> | <!----> | <!----> | <!----> | <!----> | <!----> | <!----> | <!----> | <!----> | <!----> | NA |\n| 123 | french fries   | <!----> | <!----> | <!----> | <!----> | <!----> | <!----> | <!----> | <!----> | <!----> | <!----> | <!----> | <!----> | <!----> | <!----> | <!----> | <!----> | <!----> | <!----> | NA |\n| 124 | chocolate      | milk      | <!----> | <!----> | <!----> | <!----> | <!----> | <!----> | <!----> | <!----> | <!----> | <!----> | <!----> | <!----> | <!----> | <!----> | <!----> | <!----> | <!----> | NA |\n| 135 | cookies        | <!----> | <!----> | <!----> | <!----> | <!----> | <!----> | <!----> | <!----> | <!----> | <!----> | <!----> | <!----> | <!----> | <!----> | <!----> | <!----> | <!----> | <!----> | NA |\n| 144 | cookies        | <!----> | <!----> | <!----> | <!----> | <!----> | <!----> | <!----> | <!----> | <!----> | <!----> | <!----> | <!----> | <!----> | <!----> | <!----> | <!----> | <!----> | <!----> | NA |\n| 148 | chocolate      | milk      | <!----> | <!----> | <!----> | <!----> | <!----> | <!----> | <!----> | <!----> | <!----> | <!----> | <!----> | <!----> | <!----> | <!----> | <!----> | <!----> | <!----> | NA |\n| 152 | cookies        | <!----> | <!----> | <!----> | <!----> | <!----> | <!----> | <!----> | <!----> | <!----> | <!----> | <!----> | <!----> | <!----> | <!----> | <!----> | <!----> | <!----> | <!----> | NA |\n| 163 | low fat yogurt | <!----> | <!----> | <!----> | <!----> | <!----> | <!----> | <!----> | <!----> | <!----> | <!----> | <!----> | <!----> | <!----> | <!----> | <!----> | <!----> | <!----> | <!----> | NA |\n| 167 | cookies        | <!----> | <!----> | <!----> | <!----> | <!----> | <!----> | <!----> | <!----> | <!----> | <!----> | <!----> | <!----> | <!----> | <!----> | <!----> | <!----> | <!----> | <!----> | NA |\n| 168 | escalope       | <!----> | <!----> | <!----> | <!----> | <!----> | <!----> | <!----> | <!----> | <!----> | <!----> | <!----> | <!----> | <!----> | <!----> | <!----> | <!----> | <!----> | <!----> | NA |\n| 175 | muffins        | <!----> | <!----> | <!----> | <!----> | <!----> | <!----> | <!----> | <!----> | <!----> | <!----> | <!----> | <!----> | <!----> | <!----> | <!----> | <!----> | <!----> | <!----> | NA |\n| 186 | chocolate      | <!----> | <!----> | <!----> | <!----> | <!----> | <!----> | <!----> | <!----> | <!----> | <!----> | <!----> | <!----> | <!----> | <!----> | <!----> | <!----> | <!----> | <!----> | NA |\n| 196 | french fries   | <!----> | <!----> | <!----> | <!----> | <!----> | <!----> | <!----> | <!----> | <!----> | <!----> | <!----> | <!----> | <!----> | <!----> | <!----> | <!----> | <!----> | <!----> | NA |\n| 197 | chocolate      | <!----> | <!----> | <!----> | <!----> | <!----> | <!----> | <!----> | <!----> | <!----> | <!----> | <!----> | <!----> | <!----> | <!----> | <!----> | <!----> | <!----> | <!----> | NA |\n| 201 | low fat yogurt | <!----> | <!----> | <!----> | <!----> | <!----> | <!----> | <!----> | <!----> | <!----> | <!----> | <!----> | <!----> | <!----> | <!----> | <!----> | <!----> | <!----> | <!----> | NA |\n| 203 | turkey         | eggs      | <!----> | <!----> | <!----> | <!----> | <!----> | <!----> | <!----> | <!----> | <!----> | <!----> | <!----> | <!----> | <!----> | <!----> | <!----> | <!----> | <!----> | NA |\n| 213 | cookies        | <!----> | <!----> | <!----> | <!----> | <!----> | <!----> | <!----> | <!----> | <!----> | <!----> | <!----> | <!----> | <!----> | <!----> | <!----> | <!----> | <!----> | <!----> | NA |\n| 221 | mineral water  | <!----> | <!----> | <!----> | <!----> | <!----> | <!----> | <!----> | <!----> | <!----> | <!----> | <!----> | <!----> | <!----> | <!----> | <!----> | <!----> | <!----> | <!----> | NA |\n| 230 | milk           | <!----> | <!----> | <!----> | <!----> | <!----> | <!----> | <!----> | <!----> | <!----> | <!----> | <!----> | <!----> | <!----> | <!----> | <!----> | <!----> | <!----> | <!----> | NA |\n| 231 | spaghetti      | chocolate | <!----> | <!----> | <!----> | <!----> | <!----> | <!----> | <!----> | <!----> | <!----> | <!----> | <!----> | <!----> | <!----> | <!----> | <!----> | <!----> | <!----> | NA |\n| ⋮ | ⋮ | ⋮ | ⋮ | ⋮ | ⋮ | ⋮ | ⋮ | ⋮ | ⋮ | ⋮ | ⋮ | ⋮ | ⋮ | ⋮ | ⋮ | ⋮ | ⋮ | ⋮ | ⋮ | ⋮ |\n| 7422 | soup           | milk                 | <!----> | <!----> | <!----> | <!----> | <!----> | <!----> | <!----> | <!----> | <!----> | <!----> | <!----> | <!----> | <!----> | <!----> | <!----> | <!----> | <!----> | NA |\n| 7423 | tomatoes       | <!----> | <!----> | <!----> | <!----> | <!----> | <!----> | <!----> | <!----> | <!----> | <!----> | <!----> | <!----> | <!----> | <!----> | <!----> | <!----> | <!----> | <!----> | NA |\n| 7424 | energy bar     | eggs                 | <!----> | <!----> | <!----> | <!----> | <!----> | <!----> | <!----> | <!----> | <!----> | <!----> | <!----> | <!----> | <!----> | <!----> | <!----> | <!----> | <!----> | NA |\n| 7425 | french fries   | frozen smoothie      | cottage cheese | <!----> | <!----> | <!----> | <!----> | <!----> | <!----> | <!----> | <!----> | <!----> | <!----> | <!----> | <!----> | <!----> | <!----> | <!----> | <!----> | NA |\n| 7426 | low fat yogurt | <!----> | <!----> | <!----> | <!----> | <!----> | <!----> | <!----> | <!----> | <!----> | <!----> | <!----> | <!----> | <!----> | <!----> | <!----> | <!----> | <!----> | <!----> | NA |\n| 7436 | green tea      | <!----> | <!----> | <!----> | <!----> | <!----> | <!----> | <!----> | <!----> | <!----> | <!----> | <!----> | <!----> | <!----> | <!----> | <!----> | <!----> | <!----> | <!----> | NA |\n| 7437 | flax seed      | green tea            | <!----> | <!----> | <!----> | <!----> | <!----> | <!----> | <!----> | <!----> | <!----> | <!----> | <!----> | <!----> | <!----> | <!----> | <!----> | <!----> | <!----> | NA |\n| 7438 | milk           | <!----> | <!----> | <!----> | <!----> | <!----> | <!----> | <!----> | <!----> | <!----> | <!----> | <!----> | <!----> | <!----> | <!----> | <!----> | <!----> | <!----> | <!----> | NA |\n| 7439 | eggs           | mushroom cream sauce | <!----> | <!----> | <!----> | <!----> | <!----> | <!----> | <!----> | <!----> | <!----> | <!----> | <!----> | <!----> | <!----> | <!----> | <!----> | <!----> | <!----> | NA |\n| 7440 | mineral water  | cake                 | <!----> | <!----> | <!----> | <!----> | <!----> | <!----> | <!----> | <!----> | <!----> | <!----> | <!----> | <!----> | <!----> | <!----> | <!----> | <!----> | <!----> | NA |\n| 7446 | cookies        | <!----> | <!----> | <!----> | <!----> | <!----> | <!----> | <!----> | <!----> | <!----> | <!----> | <!----> | <!----> | <!----> | <!----> | <!----> | <!----> | <!----> | <!----> | NA |\n| 7448 | melons         | <!----> | <!----> | <!----> | <!----> | <!----> | <!----> | <!----> | <!----> | <!----> | <!----> | <!----> | <!----> | <!----> | <!----> | <!----> | <!----> | <!----> | <!----> | NA |\n| 7453 | almonds        | <!----> | <!----> | <!----> | <!----> | <!----> | <!----> | <!----> | <!----> | <!----> | <!----> | <!----> | <!----> | <!----> | <!----> | <!----> | <!----> | <!----> | <!----> | NA |\n| 7456 | cider          | eggs                 | <!----> | <!----> | <!----> | <!----> | <!----> | <!----> | <!----> | <!----> | <!----> | <!----> | <!----> | <!----> | <!----> | <!----> | <!----> | <!----> | <!----> | NA |\n| 7463 | eggs           | <!----> | <!----> | <!----> | <!----> | <!----> | <!----> | <!----> | <!----> | <!----> | <!----> | <!----> | <!----> | <!----> | <!----> | <!----> | <!----> | <!----> | <!----> | NA |\n| 7466 | yogurt cake    | <!----> | <!----> | <!----> | <!----> | <!----> | <!----> | <!----> | <!----> | <!----> | <!----> | <!----> | <!----> | <!----> | <!----> | <!----> | <!----> | <!----> | <!----> | NA |\n| 7468 | herb &amp; pepper  | eggs                 | <!----> | <!----> | <!----> | <!----> | <!----> | <!----> | <!----> | <!----> | <!----> | <!----> | <!----> | <!----> | <!----> | <!----> | <!----> | <!----> | <!----> | NA |\n| 7470 | french fries   | pancakes             | <!----> | <!----> | <!----> | <!----> | <!----> | <!----> | <!----> | <!----> | <!----> | <!----> | <!----> | <!----> | <!----> | <!----> | <!----> | <!----> | <!----> | NA |\n| 7471 | mineral water  | chocolate            | <!----> | <!----> | <!----> | <!----> | <!----> | <!----> | <!----> | <!----> | <!----> | <!----> | <!----> | <!----> | <!----> | <!----> | <!----> | <!----> | <!----> | NA |\n| 7477 | tomato juice   | <!----> | <!----> | <!----> | <!----> | <!----> | <!----> | <!----> | <!----> | <!----> | <!----> | <!----> | <!----> | <!----> | <!----> | <!----> | <!----> | <!----> | <!----> | NA |\n| 7482 | chocolate      | <!----> | <!----> | <!----> | <!----> | <!----> | <!----> | <!----> | <!----> | <!----> | <!----> | <!----> | <!----> | <!----> | <!----> | <!----> | <!----> | <!----> | <!----> | NA |\n| 7484 | cookies        | energy drink         | <!----> | <!----> | <!----> | <!----> | <!----> | <!----> | <!----> | <!----> | <!----> | <!----> | <!----> | <!----> | <!----> | <!----> | <!----> | <!----> | <!----> | NA |\n| 7487 | soup           | milk                 | <!----> | <!----> | <!----> | <!----> | <!----> | <!----> | <!----> | <!----> | <!----> | <!----> | <!----> | <!----> | <!----> | <!----> | <!----> | <!----> | <!----> | NA |\n| 7488 | eggs           | whole wheat rice     | <!----> | <!----> | <!----> | <!----> | <!----> | <!----> | <!----> | <!----> | <!----> | <!----> | <!----> | <!----> | <!----> | <!----> | <!----> | <!----> | <!----> | NA |\n| 7489 | brownies       | <!----> | <!----> | <!----> | <!----> | <!----> | <!----> | <!----> | <!----> | <!----> | <!----> | <!----> | <!----> | <!----> | <!----> | <!----> | <!----> | <!----> | <!----> | NA |\n| 7491 | herb &amp; pepper  | <!----> | <!----> | <!----> | <!----> | <!----> | <!----> | <!----> | <!----> | <!----> | <!----> | <!----> | <!----> | <!----> | <!----> | <!----> | <!----> | <!----> | <!----> | NA |\n| 7492 | chocolate      | escalope             | <!----> | <!----> | <!----> | <!----> | <!----> | <!----> | <!----> | <!----> | <!----> | <!----> | <!----> | <!----> | <!----> | <!----> | <!----> | <!----> | <!----> | NA |\n| 7495 | pancakes       | light mayo           | <!----> | <!----> | <!----> | <!----> | <!----> | <!----> | <!----> | <!----> | <!----> | <!----> | <!----> | <!----> | <!----> | <!----> | <!----> | <!----> | <!----> | NA |\n| 7498 | chicken        | <!----> | <!----> | <!----> | <!----> | <!----> | <!----> | <!----> | <!----> | <!----> | <!----> | <!----> | <!----> | <!----> | <!----> | <!----> | <!----> | <!----> | <!----> | NA |\n| 7499 | escalope       | green tea            | <!----> | <!----> | <!----> | <!----> | <!----> | <!----> | <!----> | <!----> | <!----> | <!----> | <!----> | <!----> | <!----> | <!----> | <!----> | <!----> | <!----> | NA |\n\n",
            "text/latex": "A data.frame: 2325 × 20\n\\begin{tabular}{r|llllllllllllllllllll}\n  & shrimp & almonds & avocado & vegetables.mix & green.grapes & whole.weat.flour & yams & cottage.cheese & energy.drink & tomato.juice & low.fat.yogurt & green.tea & honey & salad & mineral.water & salmon & antioxydant.juice & frozen.smoothie & spinach & olive.oil\\\\\n  & <chr> & <chr> & <chr> & <chr> & <chr> & <chr> & <chr> & <chr> & <chr> & <chr> & <chr> & <chr> & <chr> & <chr> & <chr> & <chr> & <chr> & <chr> & <chr> & <lgl>\\\\\n\\hline\n\t34 & cookies        &           &  &  &  &  &  &  &  &  &  &  &  &  &  &  &  &  &  & NA\\\\\n\t42 & spaghetti      &           &  &  &  &  &  &  &  &  &  &  &  &  &  &  &  &  &  & NA\\\\\n\t60 & spaghetti      &           &  &  &  &  &  &  &  &  &  &  &  &  &  &  &  &  &  & NA\\\\\n\t64 & turkey         & eggs      &  &  &  &  &  &  &  &  &  &  &  &  &  &  &  &  &  & NA\\\\\n\t65 & french fries   &           &  &  &  &  &  &  &  &  &  &  &  &  &  &  &  &  &  & NA\\\\\n\t68 & cookies        &           &  &  &  &  &  &  &  &  &  &  &  &  &  &  &  &  &  & NA\\\\\n\t72 & cookies        &           &  &  &  &  &  &  &  &  &  &  &  &  &  &  &  &  &  & NA\\\\\n\t75 & cookies        &           &  &  &  &  &  &  &  &  &  &  &  &  &  &  &  &  &  & NA\\\\\n\t87 & low fat yogurt &           &  &  &  &  &  &  &  &  &  &  &  &  &  &  &  &  &  & NA\\\\\n\t90 & low fat yogurt &           &  &  &  &  &  &  &  &  &  &  &  &  &  &  &  &  &  & NA\\\\\n\t98 & cookies        &           &  &  &  &  &  &  &  &  &  &  &  &  &  &  &  &  &  & NA\\\\\n\t123 & french fries   &           &  &  &  &  &  &  &  &  &  &  &  &  &  &  &  &  &  & NA\\\\\n\t124 & chocolate      & milk      &  &  &  &  &  &  &  &  &  &  &  &  &  &  &  &  &  & NA\\\\\n\t135 & cookies        &           &  &  &  &  &  &  &  &  &  &  &  &  &  &  &  &  &  & NA\\\\\n\t144 & cookies        &           &  &  &  &  &  &  &  &  &  &  &  &  &  &  &  &  &  & NA\\\\\n\t148 & chocolate      & milk      &  &  &  &  &  &  &  &  &  &  &  &  &  &  &  &  &  & NA\\\\\n\t152 & cookies        &           &  &  &  &  &  &  &  &  &  &  &  &  &  &  &  &  &  & NA\\\\\n\t163 & low fat yogurt &           &  &  &  &  &  &  &  &  &  &  &  &  &  &  &  &  &  & NA\\\\\n\t167 & cookies        &           &  &  &  &  &  &  &  &  &  &  &  &  &  &  &  &  &  & NA\\\\\n\t168 & escalope       &           &  &  &  &  &  &  &  &  &  &  &  &  &  &  &  &  &  & NA\\\\\n\t175 & muffins        &           &  &  &  &  &  &  &  &  &  &  &  &  &  &  &  &  &  & NA\\\\\n\t186 & chocolate      &           &  &  &  &  &  &  &  &  &  &  &  &  &  &  &  &  &  & NA\\\\\n\t196 & french fries   &           &  &  &  &  &  &  &  &  &  &  &  &  &  &  &  &  &  & NA\\\\\n\t197 & chocolate      &           &  &  &  &  &  &  &  &  &  &  &  &  &  &  &  &  &  & NA\\\\\n\t201 & low fat yogurt &           &  &  &  &  &  &  &  &  &  &  &  &  &  &  &  &  &  & NA\\\\\n\t203 & turkey         & eggs      &  &  &  &  &  &  &  &  &  &  &  &  &  &  &  &  &  & NA\\\\\n\t213 & cookies        &           &  &  &  &  &  &  &  &  &  &  &  &  &  &  &  &  &  & NA\\\\\n\t221 & mineral water  &           &  &  &  &  &  &  &  &  &  &  &  &  &  &  &  &  &  & NA\\\\\n\t230 & milk           &           &  &  &  &  &  &  &  &  &  &  &  &  &  &  &  &  &  & NA\\\\\n\t231 & spaghetti      & chocolate &  &  &  &  &  &  &  &  &  &  &  &  &  &  &  &  &  & NA\\\\\n\t⋮ & ⋮ & ⋮ & ⋮ & ⋮ & ⋮ & ⋮ & ⋮ & ⋮ & ⋮ & ⋮ & ⋮ & ⋮ & ⋮ & ⋮ & ⋮ & ⋮ & ⋮ & ⋮ & ⋮ & ⋮\\\\\n\t7422 & soup           & milk                 &                &  &  &  &  &  &  &  &  &  &  &  &  &  &  &  &  & NA\\\\\n\t7423 & tomatoes       &                      &                &  &  &  &  &  &  &  &  &  &  &  &  &  &  &  &  & NA\\\\\n\t7424 & energy bar     & eggs                 &                &  &  &  &  &  &  &  &  &  &  &  &  &  &  &  &  & NA\\\\\n\t7425 & french fries   & frozen smoothie      & cottage cheese &  &  &  &  &  &  &  &  &  &  &  &  &  &  &  &  & NA\\\\\n\t7426 & low fat yogurt &                      &                &  &  &  &  &  &  &  &  &  &  &  &  &  &  &  &  & NA\\\\\n\t7436 & green tea      &                      &                &  &  &  &  &  &  &  &  &  &  &  &  &  &  &  &  & NA\\\\\n\t7437 & flax seed      & green tea            &                &  &  &  &  &  &  &  &  &  &  &  &  &  &  &  &  & NA\\\\\n\t7438 & milk           &                      &                &  &  &  &  &  &  &  &  &  &  &  &  &  &  &  &  & NA\\\\\n\t7439 & eggs           & mushroom cream sauce &                &  &  &  &  &  &  &  &  &  &  &  &  &  &  &  &  & NA\\\\\n\t7440 & mineral water  & cake                 &                &  &  &  &  &  &  &  &  &  &  &  &  &  &  &  &  & NA\\\\\n\t7446 & cookies        &                      &                &  &  &  &  &  &  &  &  &  &  &  &  &  &  &  &  & NA\\\\\n\t7448 & melons         &                      &                &  &  &  &  &  &  &  &  &  &  &  &  &  &  &  &  & NA\\\\\n\t7453 & almonds        &                      &                &  &  &  &  &  &  &  &  &  &  &  &  &  &  &  &  & NA\\\\\n\t7456 & cider          & eggs                 &                &  &  &  &  &  &  &  &  &  &  &  &  &  &  &  &  & NA\\\\\n\t7463 & eggs           &                      &                &  &  &  &  &  &  &  &  &  &  &  &  &  &  &  &  & NA\\\\\n\t7466 & yogurt cake    &                      &                &  &  &  &  &  &  &  &  &  &  &  &  &  &  &  &  & NA\\\\\n\t7468 & herb \\& pepper  & eggs                 &                &  &  &  &  &  &  &  &  &  &  &  &  &  &  &  &  & NA\\\\\n\t7470 & french fries   & pancakes             &                &  &  &  &  &  &  &  &  &  &  &  &  &  &  &  &  & NA\\\\\n\t7471 & mineral water  & chocolate            &                &  &  &  &  &  &  &  &  &  &  &  &  &  &  &  &  & NA\\\\\n\t7477 & tomato juice   &                      &                &  &  &  &  &  &  &  &  &  &  &  &  &  &  &  &  & NA\\\\\n\t7482 & chocolate      &                      &                &  &  &  &  &  &  &  &  &  &  &  &  &  &  &  &  & NA\\\\\n\t7484 & cookies        & energy drink         &                &  &  &  &  &  &  &  &  &  &  &  &  &  &  &  &  & NA\\\\\n\t7487 & soup           & milk                 &                &  &  &  &  &  &  &  &  &  &  &  &  &  &  &  &  & NA\\\\\n\t7488 & eggs           & whole wheat rice     &                &  &  &  &  &  &  &  &  &  &  &  &  &  &  &  &  & NA\\\\\n\t7489 & brownies       &                      &                &  &  &  &  &  &  &  &  &  &  &  &  &  &  &  &  & NA\\\\\n\t7491 & herb \\& pepper  &                      &                &  &  &  &  &  &  &  &  &  &  &  &  &  &  &  &  & NA\\\\\n\t7492 & chocolate      & escalope             &                &  &  &  &  &  &  &  &  &  &  &  &  &  &  &  &  & NA\\\\\n\t7495 & pancakes       & light mayo           &                &  &  &  &  &  &  &  &  &  &  &  &  &  &  &  &  & NA\\\\\n\t7498 & chicken        &                      &                &  &  &  &  &  &  &  &  &  &  &  &  &  &  &  &  & NA\\\\\n\t7499 & escalope       & green tea            &                &  &  &  &  &  &  &  &  &  &  &  &  &  &  &  &  & NA\\\\\n\\end{tabular}\n",
            "text/plain": [
              "     shrimp         almonds              avocado        vegetables.mix\n",
              "34   cookies                                                          \n",
              "42   spaghetti                                                        \n",
              "60   spaghetti                                                        \n",
              "64   turkey         eggs                                              \n",
              "65   french fries                                                     \n",
              "68   cookies                                                          \n",
              "72   cookies                                                          \n",
              "75   cookies                                                          \n",
              "87   low fat yogurt                                                   \n",
              "90   low fat yogurt                                                   \n",
              "98   cookies                                                          \n",
              "123  french fries                                                     \n",
              "124  chocolate      milk                                              \n",
              "135  cookies                                                          \n",
              "144  cookies                                                          \n",
              "148  chocolate      milk                                              \n",
              "152  cookies                                                          \n",
              "163  low fat yogurt                                                   \n",
              "167  cookies                                                          \n",
              "168  escalope                                                         \n",
              "175  muffins                                                          \n",
              "186  chocolate                                                        \n",
              "196  french fries                                                     \n",
              "197  chocolate                                                        \n",
              "201  low fat yogurt                                                   \n",
              "203  turkey         eggs                                              \n",
              "213  cookies                                                          \n",
              "221  mineral water                                                    \n",
              "230  milk                                                             \n",
              "231  spaghetti      chocolate                                         \n",
              "⋮    ⋮              ⋮                    ⋮              ⋮             \n",
              "7422 soup           milk                                              \n",
              "7423 tomatoes                                                         \n",
              "7424 energy bar     eggs                                              \n",
              "7425 french fries   frozen smoothie      cottage cheese               \n",
              "7426 low fat yogurt                                                   \n",
              "7436 green tea                                                        \n",
              "7437 flax seed      green tea                                         \n",
              "7438 milk                                                             \n",
              "7439 eggs           mushroom cream sauce                              \n",
              "7440 mineral water  cake                                              \n",
              "7446 cookies                                                          \n",
              "7448 melons                                                           \n",
              "7453 almonds                                                          \n",
              "7456 cider          eggs                                              \n",
              "7463 eggs                                                             \n",
              "7466 yogurt cake                                                      \n",
              "7468 herb & pepper  eggs                                              \n",
              "7470 french fries   pancakes                                          \n",
              "7471 mineral water  chocolate                                         \n",
              "7477 tomato juice                                                     \n",
              "7482 chocolate                                                        \n",
              "7484 cookies        energy drink                                      \n",
              "7487 soup           milk                                              \n",
              "7488 eggs           whole wheat rice                                  \n",
              "7489 brownies                                                         \n",
              "7491 herb & pepper                                                    \n",
              "7492 chocolate      escalope                                          \n",
              "7495 pancakes       light mayo                                        \n",
              "7498 chicken                                                          \n",
              "7499 escalope       green tea                                         \n",
              "     green.grapes whole.weat.flour yams cottage.cheese energy.drink\n",
              "34                                                                 \n",
              "42                                                                 \n",
              "60                                                                 \n",
              "64                                                                 \n",
              "65                                                                 \n",
              "68                                                                 \n",
              "72                                                                 \n",
              "75                                                                 \n",
              "87                                                                 \n",
              "90                                                                 \n",
              "98                                                                 \n",
              "123                                                                \n",
              "124                                                                \n",
              "135                                                                \n",
              "144                                                                \n",
              "148                                                                \n",
              "152                                                                \n",
              "163                                                                \n",
              "167                                                                \n",
              "168                                                                \n",
              "175                                                                \n",
              "186                                                                \n",
              "196                                                                \n",
              "197                                                                \n",
              "201                                                                \n",
              "203                                                                \n",
              "213                                                                \n",
              "221                                                                \n",
              "230                                                                \n",
              "231                                                                \n",
              "⋮    ⋮            ⋮                ⋮    ⋮              ⋮           \n",
              "7422                                                               \n",
              "7423                                                               \n",
              "7424                                                               \n",
              "7425                                                               \n",
              "7426                                                               \n",
              "7436                                                               \n",
              "7437                                                               \n",
              "7438                                                               \n",
              "7439                                                               \n",
              "7440                                                               \n",
              "7446                                                               \n",
              "7448                                                               \n",
              "7453                                                               \n",
              "7456                                                               \n",
              "7463                                                               \n",
              "7466                                                               \n",
              "7468                                                               \n",
              "7470                                                               \n",
              "7471                                                               \n",
              "7477                                                               \n",
              "7482                                                               \n",
              "7484                                                               \n",
              "7487                                                               \n",
              "7488                                                               \n",
              "7489                                                               \n",
              "7491                                                               \n",
              "7492                                                               \n",
              "7495                                                               \n",
              "7498                                                               \n",
              "7499                                                               \n",
              "     tomato.juice low.fat.yogurt green.tea honey salad mineral.water salmon\n",
              "34                                                                         \n",
              "42                                                                         \n",
              "60                                                                         \n",
              "64                                                                         \n",
              "65                                                                         \n",
              "68                                                                         \n",
              "72                                                                         \n",
              "75                                                                         \n",
              "87                                                                         \n",
              "90                                                                         \n",
              "98                                                                         \n",
              "123                                                                        \n",
              "124                                                                        \n",
              "135                                                                        \n",
              "144                                                                        \n",
              "148                                                                        \n",
              "152                                                                        \n",
              "163                                                                        \n",
              "167                                                                        \n",
              "168                                                                        \n",
              "175                                                                        \n",
              "186                                                                        \n",
              "196                                                                        \n",
              "197                                                                        \n",
              "201                                                                        \n",
              "203                                                                        \n",
              "213                                                                        \n",
              "221                                                                        \n",
              "230                                                                        \n",
              "231                                                                        \n",
              "⋮    ⋮            ⋮              ⋮         ⋮     ⋮     ⋮             ⋮     \n",
              "7422                                                                       \n",
              "7423                                                                       \n",
              "7424                                                                       \n",
              "7425                                                                       \n",
              "7426                                                                       \n",
              "7436                                                                       \n",
              "7437                                                                       \n",
              "7438                                                                       \n",
              "7439                                                                       \n",
              "7440                                                                       \n",
              "7446                                                                       \n",
              "7448                                                                       \n",
              "7453                                                                       \n",
              "7456                                                                       \n",
              "7463                                                                       \n",
              "7466                                                                       \n",
              "7468                                                                       \n",
              "7470                                                                       \n",
              "7471                                                                       \n",
              "7477                                                                       \n",
              "7482                                                                       \n",
              "7484                                                                       \n",
              "7487                                                                       \n",
              "7488                                                                       \n",
              "7489                                                                       \n",
              "7491                                                                       \n",
              "7492                                                                       \n",
              "7495                                                                       \n",
              "7498                                                                       \n",
              "7499                                                                       \n",
              "     antioxydant.juice frozen.smoothie spinach olive.oil\n",
              "34                                             NA       \n",
              "42                                             NA       \n",
              "60                                             NA       \n",
              "64                                             NA       \n",
              "65                                             NA       \n",
              "68                                             NA       \n",
              "72                                             NA       \n",
              "75                                             NA       \n",
              "87                                             NA       \n",
              "90                                             NA       \n",
              "98                                             NA       \n",
              "123                                            NA       \n",
              "124                                            NA       \n",
              "135                                            NA       \n",
              "144                                            NA       \n",
              "148                                            NA       \n",
              "152                                            NA       \n",
              "163                                            NA       \n",
              "167                                            NA       \n",
              "168                                            NA       \n",
              "175                                            NA       \n",
              "186                                            NA       \n",
              "196                                            NA       \n",
              "197                                            NA       \n",
              "201                                            NA       \n",
              "203                                            NA       \n",
              "213                                            NA       \n",
              "221                                            NA       \n",
              "230                                            NA       \n",
              "231                                            NA       \n",
              "⋮    ⋮                 ⋮               ⋮       ⋮        \n",
              "7422                                           NA       \n",
              "7423                                           NA       \n",
              "7424                                           NA       \n",
              "7425                                           NA       \n",
              "7426                                           NA       \n",
              "7436                                           NA       \n",
              "7437                                           NA       \n",
              "7438                                           NA       \n",
              "7439                                           NA       \n",
              "7440                                           NA       \n",
              "7446                                           NA       \n",
              "7448                                           NA       \n",
              "7453                                           NA       \n",
              "7456                                           NA       \n",
              "7463                                           NA       \n",
              "7466                                           NA       \n",
              "7468                                           NA       \n",
              "7470                                           NA       \n",
              "7471                                           NA       \n",
              "7477                                           NA       \n",
              "7482                                           NA       \n",
              "7484                                           NA       \n",
              "7487                                           NA       \n",
              "7488                                           NA       \n",
              "7489                                           NA       \n",
              "7491                                           NA       \n",
              "7492                                           NA       \n",
              "7495                                           NA       \n",
              "7498                                           NA       \n",
              "7499                                           NA       "
            ]
          },
          "metadata": {}
        }
      ]
    },
    {
      "cell_type": "code",
      "source": [
        "# Checking for total duplicates values.\n",
        "\n",
        "sum(duplicated(data2))"
      ],
      "metadata": {
        "colab": {
          "base_uri": "https://localhost:8080/",
          "height": 34
        },
        "id": "wMQH3zxyT2Ps",
        "outputId": "dffa5b1e-c616-435c-fd4d-79cec7496b77"
      },
      "execution_count": null,
      "outputs": [
        {
          "output_type": "display_data",
          "data": {
            "text/html": [
              "2325"
            ],
            "text/markdown": "2325",
            "text/latex": "2325",
            "text/plain": [
              "[1] 2325"
            ]
          },
          "metadata": {}
        }
      ]
    },
    {
      "cell_type": "markdown",
      "source": [
        "**There are 2325 duplicated values in the data**"
      ],
      "metadata": {
        "id": "RCHhCv3f_W-0"
      }
    },
    {
      "cell_type": "code",
      "source": [
        "# Generating a summary statistics of the  dataset\n",
        "\n",
        "summary(data2)"
      ],
      "metadata": {
        "colab": {
          "base_uri": "https://localhost:8080/",
          "height": 394
        },
        "id": "EvJNtS9p_0ka",
        "outputId": "7f28ebcd-f5d8-451d-d121-4c0927785d4e"
      },
      "execution_count": null,
      "outputs": [
        {
          "output_type": "display_data",
          "data": {
            "text/plain": [
              "    shrimp            almonds            avocado          vegetables.mix    \n",
              " Length:7500        Length:7500        Length:7500        Length:7500       \n",
              " Class :character   Class :character   Class :character   Class :character  \n",
              " Mode  :character   Mode  :character   Mode  :character   Mode  :character  \n",
              " green.grapes       whole.weat.flour       yams           cottage.cheese    \n",
              " Length:7500        Length:7500        Length:7500        Length:7500       \n",
              " Class :character   Class :character   Class :character   Class :character  \n",
              " Mode  :character   Mode  :character   Mode  :character   Mode  :character  \n",
              " energy.drink       tomato.juice       low.fat.yogurt      green.tea        \n",
              " Length:7500        Length:7500        Length:7500        Length:7500       \n",
              " Class :character   Class :character   Class :character   Class :character  \n",
              " Mode  :character   Mode  :character   Mode  :character   Mode  :character  \n",
              "    honey              salad           mineral.water         salmon         \n",
              " Length:7500        Length:7500        Length:7500        Length:7500       \n",
              " Class :character   Class :character   Class :character   Class :character  \n",
              " Mode  :character   Mode  :character   Mode  :character   Mode  :character  \n",
              " antioxydant.juice  frozen.smoothie      spinach         \n",
              " Length:7500        Length:7500        Length:7500       \n",
              " Class :character   Class :character   Class :character  \n",
              " Mode  :character   Mode  :character   Mode  :character  "
            ]
          },
          "metadata": {}
        }
      ]
    },
    {
      "cell_type": "markdown",
      "source": [
        "# Part 4 Assocciation Rules"
      ],
      "metadata": {
        "id": "5Eh5MvbDkDIy"
      }
    },
    {
      "cell_type": "code",
      "source": [
        "# Get the rules\n",
        "# Building apriori model with Min Support as 0.05 and confidence as 0.8.\n",
        "\n",
        "rules <- apriori(data2, parameter = list(supp = 0.5, conf = 0.8,target = \"rules\",minlen=2))\n"
      ],
      "metadata": {
        "colab": {
          "base_uri": "https://localhost:8080/"
        },
        "id": "rlIoL4AwJ12c",
        "outputId": "fb4ce361-1072-4ef6-f250-81fb52441859"
      },
      "execution_count": null,
      "outputs": [
        {
          "output_type": "stream",
          "name": "stderr",
          "text": [
            "Warning message:\n",
            "“Column(s) 1, 2, 3, 4, 5, 6, 7, 8, 9, 10, 11, 12, 13, 14, 15, 16, 17, 18, 19 not logical or factor. Applying default discretization (see '? discretizeDF').”\n"
          ]
        },
        {
          "output_type": "stream",
          "name": "stdout",
          "text": [
            "Apriori\n",
            "\n",
            "Parameter specification:\n",
            " confidence minval smax arem  aval originalSupport maxtime support minlen\n",
            "        0.8    0.1    1 none FALSE            TRUE       5     0.5      2\n",
            " maxlen target  ext\n",
            "     10  rules TRUE\n",
            "\n",
            "Algorithmic control:\n",
            " filter tree heap memopt load sort verbose\n",
            "    0.1 TRUE TRUE  FALSE TRUE    2    TRUE\n",
            "\n",
            "Absolute minimum support count: 3750 \n",
            "\n",
            "set item appearances ...[0 item(s)] done [0.00s].\n",
            "set transactions ...[1280 item(s), 7500 transaction(s)] done [0.04s].\n",
            "sorting and recoding items ... [16 item(s)] done [0.00s].\n",
            "creating transaction tree ... done [0.00s].\n",
            "checking subsets of size 1 2 3 4 5 6 7 8 9 10"
          ]
        },
        {
          "output_type": "stream",
          "name": "stderr",
          "text": [
            "Warning message in apriori(data2, parameter = list(supp = 0.5, conf = 0.8, target = \"rules\", :\n",
            "“Mining stopped (maxlen reached). Only patterns up to a length of 10 returned!”\n"
          ]
        },
        {
          "output_type": "stream",
          "name": "stdout",
          "text": [
            " done [0.02s].\n",
            "writing ... [425218 rule(s)] done [0.13s].\n",
            "creating S4 object  ... done [0.13s].\n"
          ]
        }
      ]
    },
    {
      "cell_type": "code",
      "source": [
        "# summary of rules\n",
        "\n",
        "summary(rules)"
      ],
      "metadata": {
        "colab": {
          "base_uri": "https://localhost:8080/",
          "height": 582
        },
        "id": "3VITbgb8KClM",
        "outputId": "8196b45c-90ac-41dc-d431-2796ef25f0b5"
      },
      "execution_count": null,
      "outputs": [
        {
          "output_type": "display_data",
          "data": {
            "text/plain": [
              "set of 425218 rules\n",
              "\n",
              "rule length distribution (lhs + rhs):sizes\n",
              "    2     3     4     5     6     7     8     9    10 \n",
              "  204  1478  6576 20134 45002 75943 98616 99417 77848 \n",
              "\n",
              "   Min. 1st Qu.  Median    Mean 3rd Qu.    Max. \n",
              "  2.000   7.000   8.000   7.986   9.000  10.000 \n",
              "\n",
              "summary of quality measures:\n",
              "    support         confidence        coverage           lift      \n",
              " Min.   :0.5541   Min.   :0.8108   Min.   :0.5541   Min.   :1.000  \n",
              " 1st Qu.:0.5541   1st Qu.:1.0000   1st Qu.:0.5541   1st Qu.:1.001  \n",
              " Median :0.6629   Median :1.0000   Median :0.6629   Median :1.021  \n",
              " Mean   :0.6455   Mean   :0.9882   Mean   :0.6545   Mean   :1.095  \n",
              " 3rd Qu.:0.7516   3rd Qu.:1.0000   3rd Qu.:0.7516   3rd Qu.:1.150  \n",
              " Max.   :0.9996   Max.   :1.0000   Max.   :0.9997   Max.   :1.508  \n",
              "     count     \n",
              " Min.   :4156  \n",
              " 1st Qu.:4156  \n",
              " Median :4972  \n",
              " Mean   :4841  \n",
              " 3rd Qu.:5637  \n",
              " Max.   :7497  \n",
              "\n",
              "mining info:\n",
              "  data ntransactions support confidence\n",
              " data2          7500     0.5        0.8\n",
              "                                                                                          call\n",
              " apriori(data = data2, parameter = list(supp = 0.5, conf = 0.8, target = \"rules\", minlen = 2))"
            ]
          },
          "metadata": {}
        }
      ]
    },
    {
      "cell_type": "code",
      "source": [
        "# Observing rules built in our model i.e. first 5 model rules\n",
        "\n",
        "inspect(rules[1:5])"
      ],
      "metadata": {
        "colab": {
          "base_uri": "https://localhost:8080/"
        },
        "id": "Rqrnd2ramjEy",
        "outputId": "475900b9-f22e-4f57-ec46-33384f8eb53d"
      },
      "execution_count": null,
      "outputs": [
        {
          "output_type": "stream",
          "name": "stdout",
          "text": [
            "    lhs                  rhs                 support   confidence coverage \n",
            "[1] {vegetables.mix=} => {green.grapes=}     0.5541333 1.0000000  0.5541333\n",
            "[2] {green.grapes=}   => {vegetables.mix=}   0.5541333 0.8358809  0.6629333\n",
            "[3] {vegetables.mix=} => {whole.weat.flour=} 0.5541333 1.0000000  0.5541333\n",
            "[4] {vegetables.mix=} => {yams=}             0.5541333 1.0000000  0.5541333\n",
            "[5] {vegetables.mix=} => {cottage.cheese=}   0.5541333 1.0000000  0.5541333\n",
            "    lift     count\n",
            "[1] 1.508447 4156 \n",
            "[2] 1.508447 4156 \n",
            "[3] 1.330495 4156 \n",
            "[4] 1.223092 4156 \n",
            "[5] 1.150307 4156 \n"
          ]
        }
      ]
    },
    {
      "cell_type": "markdown",
      "source": [
        "**Interpretation**\n",
        "\n",
        "When an individual buys vegetables mix they will 100% buy green apples.\n",
        "\n",
        "When an individual buys green grapes they are 84% likely to buy vegetable mix."
      ],
      "metadata": {
        "id": "ZJpRQJpTAKeK"
      }
    },
    {
      "cell_type": "code",
      "source": [
        "# Building apriori model with Min Support as 0.001 and confidence as 0.8.\n",
        "\n",
        "rules2 <- apriori (data2, parameter = list(supp = 0.001, conf = 0.8))"
      ],
      "metadata": {
        "colab": {
          "base_uri": "https://localhost:8080/"
        },
        "id": "Lkr4GrSqKYV5",
        "outputId": "814c0be3-a4a3-42b0-a8d4-0209cfc6ce0c"
      },
      "execution_count": null,
      "outputs": [
        {
          "output_type": "stream",
          "name": "stderr",
          "text": [
            "Warning message:\n",
            "“Column(s) 1, 2, 3, 4, 5, 6, 7, 8, 9, 10, 11, 12, 13, 14, 15, 16, 17, 18, 19 not logical or factor. Applying default discretization (see '? discretizeDF').”\n"
          ]
        },
        {
          "output_type": "stream",
          "name": "stdout",
          "text": [
            "Apriori\n",
            "\n",
            "Parameter specification:\n",
            " confidence minval smax arem  aval originalSupport maxtime support minlen\n",
            "        0.8    0.1    1 none FALSE            TRUE       5   0.001      1\n",
            " maxlen target  ext\n",
            "     10  rules TRUE\n",
            "\n",
            "Algorithmic control:\n",
            " filter tree heap memopt load sort verbose\n",
            "    0.1 TRUE TRUE  FALSE TRUE    2    TRUE\n",
            "\n",
            "Absolute minimum support count: 7 \n",
            "\n",
            "set item appearances ...[0 item(s)] done [0.00s].\n",
            "set transactions ...[1280 item(s), 7500 transaction(s)] done [0.04s].\n",
            "sorting and recoding items ... [625 item(s)] done [0.00s].\n",
            "creating transaction tree ... done [0.00s].\n",
            "checking subsets of size 1 2 3 4 5 6 7 8"
          ]
        },
        {
          "output_type": "stream",
          "name": "stderr",
          "text": [
            "Warning message in apriori(data2, parameter = list(supp = 0.001, conf = 0.8)):\n",
            "“Mining stopped (time limit reached). Only patterns up to a length of 8 returned!”\n"
          ]
        }
      ]
    },
    {
      "cell_type": "code",
      "source": [
        "# Building apriori model with Min Support as 0.001 and confidence as 0.6.\n",
        "\n",
        "rules3 <- apriori (data2, parameter = list(supp = 0.001, conf = 0.6)) "
      ],
      "metadata": {
        "colab": {
          "base_uri": "https://localhost:8080/"
        },
        "id": "gkcqd9ifKi8J",
        "outputId": "5e7ed9d1-434c-44ef-d22f-5436241db002"
      },
      "execution_count": null,
      "outputs": [
        {
          "output_type": "stream",
          "name": "stderr",
          "text": [
            "Warning message:\n",
            "“Column(s) 1, 2, 3, 4, 5, 6, 7, 8, 9, 10, 11, 12, 13, 14, 15, 16, 17, 18, 19 not logical or factor. Applying default discretization (see '? discretizeDF').”\n"
          ]
        },
        {
          "output_type": "stream",
          "name": "stdout",
          "text": [
            "Apriori\n",
            "\n",
            "Parameter specification:\n",
            " confidence minval smax arem  aval originalSupport maxtime support minlen\n",
            "        0.6    0.1    1 none FALSE            TRUE       5   0.001      1\n",
            " maxlen target  ext\n",
            "     10  rules TRUE\n",
            "\n",
            "Algorithmic control:\n",
            " filter tree heap memopt load sort verbose\n",
            "    0.1 TRUE TRUE  FALSE TRUE    2    TRUE\n",
            "\n",
            "Absolute minimum support count: 7 \n",
            "\n",
            "set item appearances ...[0 item(s)] done [0.00s].\n",
            "set transactions ...[1280 item(s), 7500 transaction(s)] done [0.04s].\n",
            "sorting and recoding items ... [625 item(s)] done [0.00s].\n",
            "creating transaction tree ... done [0.00s].\n",
            "checking subsets of size 1 2 3 4 5 6 7 8"
          ]
        },
        {
          "output_type": "stream",
          "name": "stderr",
          "text": [
            "Warning message in apriori(data2, parameter = list(supp = 0.001, conf = 0.6)):\n",
            "“Mining stopped (time limit reached). Only patterns up to a length of 8 returned!”\n"
          ]
        }
      ]
    },
    {
      "cell_type": "markdown",
      "source": [
        "Using a high level of support can make the model lose interesting rules. In the third rule example, we decreased the minimum confidence level to 0.6 and the number of model rules are expected to increase. This would mean that using a low confidence level increases the number of rules to quite an extent and many will not be useful."
      ],
      "metadata": {
        "id": "-PfBRSLzk2kB"
      }
    },
    {
      "cell_type": "markdown",
      "source": [
        "Running the second and third rule the session crashes."
      ],
      "metadata": {
        "id": "__huiVcLnztM"
      }
    }
  ]
}