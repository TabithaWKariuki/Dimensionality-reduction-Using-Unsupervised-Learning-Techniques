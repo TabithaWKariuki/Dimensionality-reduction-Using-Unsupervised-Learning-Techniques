{
  "nbformat": 4,
  "nbformat_minor": 0,
  "metadata": {
    "colab": {
      "name": "Anomaly Detection.ipynb",
      "provenance": [],
      "authorship_tag": "ABX9TyO2/S++U5a6kDuOyz3N1OfM",
      "include_colab_link": true
    },
    "kernelspec": {
      "name": "ir",
      "display_name": "R"
    },
    "language_info": {
      "name": "R"
    }
  },
  "cells": [
    {
      "cell_type": "markdown",
      "metadata": {
        "id": "view-in-github",
        "colab_type": "text"
      },
      "source": [
        "<a href=\"https://colab.research.google.com/github/TabithaWKariuki/Dimensionality-reduction-Using-Unsupervised-Learning-Techniques/blob/main/Anomaly_Detection.ipynb\" target=\"_parent\"><img src=\"https://colab.research.google.com/assets/colab-badge.svg\" alt=\"Open In Colab\"/></a>"
      ]
    },
    {
      "cell_type": "markdown",
      "source": [
        "# Unsupervised Learning Using Association Rules"
      ],
      "metadata": {
        "id": "OVYDkpowMb7J"
      }
    },
    {
      "cell_type": "markdown",
      "source": [
        "You are a Data analyst at Carrefour Kenya and are currently undertaking a project that will inform the marketing department on the most relevant marketing strategies that will result in the highest no. of sales (total price including tax). Your project has been divided into four parts where you'll explore a recent marketing dataset by performing various unsupervised learning techniques and later providing recommendations based on your insights.\n",
        "\n",
        "Part 4: Anomaly Detection\n",
        "\n",
        "You have also been requested to check whether there are any anomalies in the given sales dataset. The objective of this task being fraud detection."
      ],
      "metadata": {
        "id": "1CLPEXP5MfTz"
      }
    },
    {
      "cell_type": "markdown",
      "source": [
        "# 1. Importing and Installing the necessary libraries"
      ],
      "metadata": {
        "id": "cij6q0SFrLQf"
      }
    },
    {
      "cell_type": "code",
      "execution_count": null,
      "metadata": {
        "id": "hO0KsOjQRurG"
      },
      "outputs": [],
      "source": [
        "# Checking available packages\n",
        "\n",
        "library()"
      ]
    },
    {
      "cell_type": "code",
      "source": [
        "# Installing anomalize package\n",
        "\n",
        "install.packages(\"anomalize\")"
      ],
      "metadata": {
        "colab": {
          "base_uri": "https://localhost:8080/"
        },
        "id": "P_q7KrqzXCJc",
        "outputId": "5e71f9b7-6ba9-4a67-c59d-e38d885fc08e"
      },
      "execution_count": 4,
      "outputs": [
        {
          "output_type": "stream",
          "name": "stderr",
          "text": [
            "Installing package into ‘/usr/local/lib/R/site-library’\n",
            "(as ‘lib’ is unspecified)\n",
            "\n",
            "also installing the dependencies ‘future.apply’, ‘progressr’, ‘numDeriv’, ‘SQUAREM’, ‘lava’, ‘TTR’, ‘prodlim’, ‘globals’, ‘later’, ‘quadprog’, ‘quantmod’, ‘listenv’, ‘parallelly’, ‘gower’, ‘hardhat’, ‘ipred’, ‘furrr’, ‘htmlwidgets’, ‘lazyeval’, ‘crosstalk’, ‘promises’, ‘warp’, ‘BH’, ‘fracdiff’, ‘lmtest’, ‘tseries’, ‘urca’, ‘RcppArmadillo’, ‘RcppRoll’, ‘future’, ‘recipes’, ‘rsample’, ‘plotly’, ‘padr’, ‘xts’, ‘zoo’, ‘slider’, ‘anytime’, ‘timeDate’, ‘forecast’, ‘tsfeatures’, ‘Rcpp’, ‘timetk’, ‘sweep’, ‘tibbletime’\n",
            "\n",
            "\n"
          ]
        }
      ]
    },
    {
      "cell_type": "code",
      "source": [
        "# Anomalize library\n",
        "\n",
        "library(anomalize)"
      ],
      "metadata": {
        "colab": {
          "base_uri": "https://localhost:8080/"
        },
        "id": "fCwkYZzRq0mr",
        "outputId": "a9afb1bb-9640-439d-9045-71423969bcf2"
      },
      "execution_count": 5,
      "outputs": [
        {
          "output_type": "stream",
          "name": "stderr",
          "text": [
            "\u001b[30m══\u001b[39m \u001b[30mUse anomalize to improve your Forecasts by 50%!\u001b[39m \u001b[30m═════════════════════════════\u001b[39m\u001b[34m\n",
            "Business Science offers a 1-hour course - Lab #18: Time Series Anomaly Detection!\n",
            "\u001b[39m\u001b[34m</> Learn more at: https://university.business-science.io/p/learning-labs-pro </>\u001b[39m\n",
            "\n"
          ]
        }
      ]
    },
    {
      "cell_type": "code",
      "source": [
        "# Tidyverse library\n",
        "\n",
        "library(tidyverse)"
      ],
      "metadata": {
        "colab": {
          "base_uri": "https://localhost:8080/"
        },
        "id": "yWbVh2ncXHS0",
        "outputId": "99e5c3b8-1956-418e-87d9-8854ad274102"
      },
      "execution_count": 6,
      "outputs": [
        {
          "output_type": "stream",
          "name": "stderr",
          "text": [
            "Warning message in system(\"timedatectl\", intern = TRUE):\n",
            "“running command 'timedatectl' had status 1”\n",
            "── \u001b[1mAttaching packages\u001b[22m ─────────────────────────────────────── tidyverse 1.3.1 ──\n",
            "\n",
            "\u001b[32m✔\u001b[39m \u001b[34mggplot2\u001b[39m 3.3.6     \u001b[32m✔\u001b[39m \u001b[34mdplyr  \u001b[39m 1.0.9\n",
            "\u001b[32m✔\u001b[39m \u001b[34mtidyr  \u001b[39m 1.2.0     \u001b[32m✔\u001b[39m \u001b[34mstringr\u001b[39m 1.4.0\n",
            "\u001b[32m✔\u001b[39m \u001b[34mreadr  \u001b[39m 2.1.2     \u001b[32m✔\u001b[39m \u001b[34mforcats\u001b[39m 0.5.1\n",
            "\u001b[32m✔\u001b[39m \u001b[34mpurrr  \u001b[39m 0.3.4     \n",
            "\n",
            "── \u001b[1mConflicts\u001b[22m ────────────────────────────────────────── tidyverse_conflicts() ──\n",
            "\u001b[31m✖\u001b[39m \u001b[34mdplyr\u001b[39m::\u001b[32mfilter()\u001b[39m masks \u001b[34mstats\u001b[39m::filter()\n",
            "\u001b[31m✖\u001b[39m \u001b[34mdplyr\u001b[39m::\u001b[32mlag()\u001b[39m    masks \u001b[34mstats\u001b[39m::lag()\n",
            "\n"
          ]
        }
      ]
    },
    {
      "cell_type": "code",
      "source": [
        " # Tibble tidyverse\n",
        "\n",
        "library('tibble')"
      ],
      "metadata": {
        "id": "SU8Dg_Ajl65d"
      },
      "execution_count": 7,
      "outputs": []
    },
    {
      "cell_type": "code",
      "source": [
        "# Tibbletime library\n",
        "\n",
        "library('tibbletime')"
      ],
      "metadata": {
        "colab": {
          "base_uri": "https://localhost:8080/"
        },
        "id": "N4ytT8ygmIdK",
        "outputId": "63204b9a-2766-4f9a-fcc9-b65b0847ca72"
      },
      "execution_count": 8,
      "outputs": [
        {
          "output_type": "stream",
          "name": "stderr",
          "text": [
            "\n",
            "Attaching package: ‘tibbletime’\n",
            "\n",
            "\n",
            "The following object is masked from ‘package:stats’:\n",
            "\n",
            "    filter\n",
            "\n",
            "\n"
          ]
        }
      ]
    },
    {
      "cell_type": "code",
      "source": [
        "# Dplyr library\n",
        "\n",
        "library('dplyr')"
      ],
      "metadata": {
        "id": "TsFn7Tb0macA"
      },
      "execution_count": 9,
      "outputs": []
    },
    {
      "cell_type": "code",
      "source": [
        "library(tibbletime)"
      ],
      "metadata": {
        "id": "ZvmTpx3nzTnb"
      },
      "execution_count": 24,
      "outputs": []
    },
    {
      "cell_type": "markdown",
      "source": [
        "# 2. Loading our dataset"
      ],
      "metadata": {
        "id": "ojDHv1XtrSxb"
      }
    },
    {
      "cell_type": "code",
      "source": [
        "# Loading the dataset\n",
        "\n",
        "data3 = read.csv('http://bit.ly/CarreFourSalesDataset')"
      ],
      "metadata": {
        "id": "jzITk5-eZOUO"
      },
      "execution_count": 11,
      "outputs": []
    },
    {
      "cell_type": "markdown",
      "source": [
        "# 3. Understanding our dataset"
      ],
      "metadata": {
        "id": "NlpgYXkZs6O4"
      }
    },
    {
      "cell_type": "code",
      "source": [
        "# Checking the top rows of our data\n",
        "\n",
        "head(data3)"
      ],
      "metadata": {
        "colab": {
          "base_uri": "https://localhost:8080/",
          "height": 0
        },
        "id": "ptE43o3CaVAw",
        "outputId": "48150831-c15a-4955-9a39-627586786950"
      },
      "execution_count": 12,
      "outputs": [
        {
          "output_type": "display_data",
          "data": {
            "text/html": [
              "<table class=\"dataframe\">\n",
              "<caption>A data.frame: 6 × 2</caption>\n",
              "<thead>\n",
              "\t<tr><th></th><th scope=col>Date</th><th scope=col>Sales</th></tr>\n",
              "\t<tr><th></th><th scope=col>&lt;chr&gt;</th><th scope=col>&lt;dbl&gt;</th></tr>\n",
              "</thead>\n",
              "<tbody>\n",
              "\t<tr><th scope=row>1</th><td>1/5/2019 </td><td>548.9715</td></tr>\n",
              "\t<tr><th scope=row>2</th><td>3/8/2019 </td><td> 80.2200</td></tr>\n",
              "\t<tr><th scope=row>3</th><td>3/3/2019 </td><td>340.5255</td></tr>\n",
              "\t<tr><th scope=row>4</th><td>1/27/2019</td><td>489.0480</td></tr>\n",
              "\t<tr><th scope=row>5</th><td>2/8/2019 </td><td>634.3785</td></tr>\n",
              "\t<tr><th scope=row>6</th><td>3/25/2019</td><td>627.6165</td></tr>\n",
              "</tbody>\n",
              "</table>\n"
            ],
            "text/markdown": "\nA data.frame: 6 × 2\n\n| <!--/--> | Date &lt;chr&gt; | Sales &lt;dbl&gt; |\n|---|---|---|\n| 1 | 1/5/2019  | 548.9715 |\n| 2 | 3/8/2019  |  80.2200 |\n| 3 | 3/3/2019  | 340.5255 |\n| 4 | 1/27/2019 | 489.0480 |\n| 5 | 2/8/2019  | 634.3785 |\n| 6 | 3/25/2019 | 627.6165 |\n\n",
            "text/latex": "A data.frame: 6 × 2\n\\begin{tabular}{r|ll}\n  & Date & Sales\\\\\n  & <chr> & <dbl>\\\\\n\\hline\n\t1 & 1/5/2019  & 548.9715\\\\\n\t2 & 3/8/2019  &  80.2200\\\\\n\t3 & 3/3/2019  & 340.5255\\\\\n\t4 & 1/27/2019 & 489.0480\\\\\n\t5 & 2/8/2019  & 634.3785\\\\\n\t6 & 3/25/2019 & 627.6165\\\\\n\\end{tabular}\n",
            "text/plain": [
              "  Date      Sales   \n",
              "1 1/5/2019  548.9715\n",
              "2 3/8/2019   80.2200\n",
              "3 3/3/2019  340.5255\n",
              "4 1/27/2019 489.0480\n",
              "5 2/8/2019  634.3785\n",
              "6 3/25/2019 627.6165"
            ]
          },
          "metadata": {}
        }
      ]
    },
    {
      "cell_type": "code",
      "source": [
        "# Checking the bottom rows of the data\n",
        "\n",
        "tail(data3)"
      ],
      "metadata": {
        "colab": {
          "base_uri": "https://localhost:8080/",
          "height": 286
        },
        "id": "1L8cN2qwaagH",
        "outputId": "8f776264-a1fe-4f8c-caf5-76935cf3848c"
      },
      "execution_count": null,
      "outputs": [
        {
          "output_type": "display_data",
          "data": {
            "text/html": [
              "<table class=\"dataframe\">\n",
              "<caption>A data.frame: 6 × 2</caption>\n",
              "<thead>\n",
              "\t<tr><th></th><th scope=col>Date</th><th scope=col>Sales</th></tr>\n",
              "\t<tr><th></th><th scope=col>&lt;chr&gt;</th><th scope=col>&lt;dbl&gt;</th></tr>\n",
              "</thead>\n",
              "<tbody>\n",
              "\t<tr><th scope=row>995</th><td>2/18/2019</td><td>  63.9975</td></tr>\n",
              "\t<tr><th scope=row>996</th><td>1/29/2019</td><td>  42.3675</td></tr>\n",
              "\t<tr><th scope=row>997</th><td>3/2/2019 </td><td>1022.4900</td></tr>\n",
              "\t<tr><th scope=row>998</th><td>2/9/2019 </td><td>  33.4320</td></tr>\n",
              "\t<tr><th scope=row>999</th><td>2/22/2019</td><td>  69.1110</td></tr>\n",
              "\t<tr><th scope=row>1000</th><td>2/18/2019</td><td> 649.2990</td></tr>\n",
              "</tbody>\n",
              "</table>\n"
            ],
            "text/markdown": "\nA data.frame: 6 × 2\n\n| <!--/--> | Date &lt;chr&gt; | Sales &lt;dbl&gt; |\n|---|---|---|\n| 995 | 2/18/2019 |   63.9975 |\n| 996 | 1/29/2019 |   42.3675 |\n| 997 | 3/2/2019  | 1022.4900 |\n| 998 | 2/9/2019  |   33.4320 |\n| 999 | 2/22/2019 |   69.1110 |\n| 1000 | 2/18/2019 |  649.2990 |\n\n",
            "text/latex": "A data.frame: 6 × 2\n\\begin{tabular}{r|ll}\n  & Date & Sales\\\\\n  & <chr> & <dbl>\\\\\n\\hline\n\t995 & 2/18/2019 &   63.9975\\\\\n\t996 & 1/29/2019 &   42.3675\\\\\n\t997 & 3/2/2019  & 1022.4900\\\\\n\t998 & 2/9/2019  &   33.4320\\\\\n\t999 & 2/22/2019 &   69.1110\\\\\n\t1000 & 2/18/2019 &  649.2990\\\\\n\\end{tabular}\n",
            "text/plain": [
              "     Date      Sales    \n",
              "995  2/18/2019   63.9975\n",
              "996  1/29/2019   42.3675\n",
              "997  3/2/2019  1022.4900\n",
              "998  2/9/2019    33.4320\n",
              "999  2/22/2019   69.1110\n",
              "1000 2/18/2019  649.2990"
            ]
          },
          "metadata": {}
        }
      ]
    },
    {
      "cell_type": "code",
      "source": [
        "# Checking the shape of the data\n",
        "\n",
        "dim(data3)"
      ],
      "metadata": {
        "colab": {
          "base_uri": "https://localhost:8080/",
          "height": 34
        },
        "id": "vfKTtYCdae96",
        "outputId": "2be0a306-9c56-4f8b-ef5a-afcb59cd5d14"
      },
      "execution_count": null,
      "outputs": [
        {
          "output_type": "display_data",
          "data": {
            "text/html": [
              "<style>\n",
              ".list-inline {list-style: none; margin:0; padding: 0}\n",
              ".list-inline>li {display: inline-block}\n",
              ".list-inline>li:not(:last-child)::after {content: \"\\00b7\"; padding: 0 .5ex}\n",
              "</style>\n",
              "<ol class=list-inline><li>1000</li><li>2</li></ol>\n"
            ],
            "text/markdown": "1. 1000\n2. 2\n\n\n",
            "text/latex": "\\begin{enumerate*}\n\\item 1000\n\\item 2\n\\end{enumerate*}\n",
            "text/plain": [
              "[1] 1000    2"
            ]
          },
          "metadata": {}
        }
      ]
    },
    {
      "cell_type": "code",
      "source": [
        "# Check the data types of the 2 columns\n",
        "\n",
        "sapply(data3, class)"
      ],
      "metadata": {
        "colab": {
          "base_uri": "https://localhost:8080/",
          "height": 34
        },
        "id": "c8hvJwZgjbbD",
        "outputId": "fd5d7cdf-6c66-45e6-d845-599a10154503"
      },
      "execution_count": null,
      "outputs": [
        {
          "output_type": "display_data",
          "data": {
            "text/html": [
              "<style>\n",
              ".dl-inline {width: auto; margin:0; padding: 0}\n",
              ".dl-inline>dt, .dl-inline>dd {float: none; width: auto; display: inline-block}\n",
              ".dl-inline>dt::after {content: \":\\0020\"; padding-right: .5ex}\n",
              ".dl-inline>dt:not(:first-of-type) {padding-left: .5ex}\n",
              "</style><dl class=dl-inline><dt>Date</dt><dd>'character'</dd><dt>Sales</dt><dd>'numeric'</dd></dl>\n"
            ],
            "text/markdown": "Date\n:   'character'Sales\n:   'numeric'\n\n",
            "text/latex": "\\begin{description*}\n\\item[Date] 'character'\n\\item[Sales] 'numeric'\n\\end{description*}\n",
            "text/plain": [
              "       Date       Sales \n",
              "\"character\"   \"numeric\" "
            ]
          },
          "metadata": {}
        }
      ]
    },
    {
      "cell_type": "code",
      "source": [
        "# Checking the structure/datatypes of the data\n",
        "\n",
        "str(data3)"
      ],
      "metadata": {
        "colab": {
          "base_uri": "https://localhost:8080/"
        },
        "id": "lecHDGaKak_P",
        "outputId": "edb0d59b-33b8-4a64-9096-0f0c32896472"
      },
      "execution_count": 14,
      "outputs": [
        {
          "output_type": "stream",
          "name": "stdout",
          "text": [
            "'data.frame':\t1000 obs. of  2 variables:\n",
            " $ Date : chr  \"1/5/2019\" \"3/8/2019\" \"3/3/2019\" \"1/27/2019\" ...\n",
            " $ Sales: num  549 80.2 340.5 489 634.4 ...\n"
          ]
        }
      ]
    },
    {
      "cell_type": "code",
      "source": [
        "# Checking the attributes of the data\n",
        "\n",
        "class(data3)"
      ],
      "metadata": {
        "colab": {
          "base_uri": "https://localhost:8080/",
          "height": 0
        },
        "id": "P3cunAWzaqMg",
        "outputId": "337a3ff1-0e44-4d81-e309-291eab80d661"
      },
      "execution_count": 13,
      "outputs": [
        {
          "output_type": "display_data",
          "data": {
            "text/html": [
              "'data.frame'"
            ],
            "text/markdown": "'data.frame'",
            "text/latex": "'data.frame'",
            "text/plain": [
              "[1] \"data.frame\""
            ]
          },
          "metadata": {}
        }
      ]
    },
    {
      "cell_type": "code",
      "source": [
        "# Highlighting the colun names\n",
        "\n",
        "colnames(data3)"
      ],
      "metadata": {
        "colab": {
          "base_uri": "https://localhost:8080/",
          "height": 34
        },
        "id": "b3m9PP8YawlT",
        "outputId": "bc3e3ccd-aa14-4446-b42f-0a770d271020"
      },
      "execution_count": null,
      "outputs": [
        {
          "output_type": "display_data",
          "data": {
            "text/html": [
              "<style>\n",
              ".list-inline {list-style: none; margin:0; padding: 0}\n",
              ".list-inline>li {display: inline-block}\n",
              ".list-inline>li:not(:last-child)::after {content: \"\\00b7\"; padding: 0 .5ex}\n",
              "</style>\n",
              "<ol class=list-inline><li>'Date'</li><li>'Sales'</li></ol>\n"
            ],
            "text/markdown": "1. 'Date'\n2. 'Sales'\n\n\n",
            "text/latex": "\\begin{enumerate*}\n\\item 'Date'\n\\item 'Sales'\n\\end{enumerate*}\n",
            "text/plain": [
              "[1] \"Date\"  \"Sales\""
            ]
          },
          "metadata": {}
        }
      ]
    },
    {
      "cell_type": "code",
      "source": [
        "# Checking for null values\n",
        "\n",
        "colSums(is.na(data3))"
      ],
      "metadata": {
        "colab": {
          "base_uri": "https://localhost:8080/",
          "height": 34
        },
        "id": "fKiJctbza35F",
        "outputId": "0dfe4f0e-0be3-4a1d-bc9d-dac24fe75708"
      },
      "execution_count": null,
      "outputs": [
        {
          "output_type": "display_data",
          "data": {
            "text/html": [
              "<style>\n",
              ".dl-inline {width: auto; margin:0; padding: 0}\n",
              ".dl-inline>dt, .dl-inline>dd {float: none; width: auto; display: inline-block}\n",
              ".dl-inline>dt::after {content: \":\\0020\"; padding-right: .5ex}\n",
              ".dl-inline>dt:not(:first-of-type) {padding-left: .5ex}\n",
              "</style><dl class=dl-inline><dt>Date</dt><dd>0</dd><dt>Sales</dt><dd>0</dd></dl>\n"
            ],
            "text/markdown": "Date\n:   0Sales\n:   0\n\n",
            "text/latex": "\\begin{description*}\n\\item[Date] 0\n\\item[Sales] 0\n\\end{description*}\n",
            "text/plain": [
              " Date Sales \n",
              "    0     0 "
            ]
          },
          "metadata": {}
        }
      ]
    },
    {
      "cell_type": "markdown",
      "source": [
        "**There are no null values in the data**"
      ],
      "metadata": {
        "id": "X3jHSXU3uWwd"
      }
    },
    {
      "cell_type": "code",
      "source": [
        "# Now lets find the duplicated rows in the dataset \n",
        "# and assign to a variable duplicated_rows below\n",
        "\n",
        "duplicated_rows <- data3[duplicated(data3),]\n",
        "\n",
        "duplicated_rows"
      ],
      "metadata": {
        "colab": {
          "base_uri": "https://localhost:8080/",
          "height": 0
        },
        "id": "BuMCMv85a-d7",
        "outputId": "c6812859-5553-418f-da27-c3ac2d990140"
      },
      "execution_count": 15,
      "outputs": [
        {
          "output_type": "display_data",
          "data": {
            "text/html": [
              "<table class=\"dataframe\">\n",
              "<caption>A data.frame: 0 × 2</caption>\n",
              "<thead>\n",
              "\t<tr><th scope=col>Date</th><th scope=col>Sales</th></tr>\n",
              "\t<tr><th scope=col>&lt;chr&gt;</th><th scope=col>&lt;dbl&gt;</th></tr>\n",
              "</thead>\n",
              "<tbody>\n",
              "</tbody>\n",
              "</table>\n"
            ],
            "text/markdown": "\nA data.frame: 0 × 2\n\n| Date &lt;chr&gt; | Sales &lt;dbl&gt; |\n|---|---|\n\n",
            "text/latex": "A data.frame: 0 × 2\n\\begin{tabular}{ll}\n Date & Sales\\\\\n <chr> & <dbl>\\\\\n\\hline\n\\end{tabular}\n",
            "text/plain": [
              "     Date Sales"
            ]
          },
          "metadata": {}
        }
      ]
    },
    {
      "cell_type": "markdown",
      "source": [
        "**There are no duplicated rows**"
      ],
      "metadata": {
        "id": "PyfF5nHCui87"
      }
    },
    {
      "cell_type": "code",
      "source": [
        "# Finding the sum of duplicates\n",
        "\n",
        "sum(duplicated(data3))"
      ],
      "metadata": {
        "colab": {
          "base_uri": "https://localhost:8080/",
          "height": 34
        },
        "id": "YEos-B73bPk-",
        "outputId": "f3dda40a-8024-48ec-b681-850d9dcf6575"
      },
      "execution_count": null,
      "outputs": [
        {
          "output_type": "display_data",
          "data": {
            "text/html": [
              "0"
            ],
            "text/markdown": "0",
            "text/latex": "0",
            "text/plain": [
              "[1] 0"
            ]
          },
          "metadata": {}
        }
      ]
    },
    {
      "cell_type": "markdown",
      "source": [
        "**There are no duplicates in our data**"
      ],
      "metadata": {
        "id": "0eKGwPc_ux9_"
      }
    },
    {
      "cell_type": "code",
      "source": [
        "# Checking for outliers in the sales column.\n",
        "\n",
        "boxplot(data3$Sales)"
      ],
      "metadata": {
        "colab": {
          "base_uri": "https://localhost:8080/",
          "height": 437
        },
        "id": "eYrZS8fYbWkO",
        "outputId": "afd792fc-1230-4e5b-dfc7-cad020dd7943"
      },
      "execution_count": null,
      "outputs": [
        {
          "output_type": "display_data",
          "data": {
            "text/plain": [
              "plot without title"
            ],
            "image/png": "[encoded data removed]"
          },
          "metadata": {
            "image/png": {
              "width": 420,
              "height": 420
            }
          }
        }
      ]
    },
    {
      "cell_type": "markdown",
      "source": [
        "# Part 4: Anomaly Detection"
      ],
      "metadata": {
        "id": "Y5CmUTxg6eBU"
      }
    },
    {
      "cell_type": "code",
      "source": [
        "# Collect our time series data\n",
        "\n",
        "head(tidyverse_cran_downloads)"
      ],
      "metadata": {
        "colab": {
          "base_uri": "https://localhost:8080/",
          "height": 286
        },
        "id": "9Z6b6LEEruOx",
        "outputId": "84fb8063-090d-4665-82a2-86722767e822"
      },
      "execution_count": 32,
      "outputs": [
        {
          "output_type": "display_data",
          "data": {
            "text/html": [
              "<table class=\"dataframe\">\n",
              "<caption>A tbl_time: 6 × 3</caption>\n",
              "<thead>\n",
              "\t<tr><th scope=col>date</th><th scope=col>count</th><th scope=col>package</th></tr>\n",
              "\t<tr><th scope=col>&lt;date&gt;</th><th scope=col>&lt;dbl&gt;</th><th scope=col>&lt;chr&gt;</th></tr>\n",
              "</thead>\n",
              "<tbody>\n",
              "\t<tr><td>2017-01-01</td><td> 873</td><td>tidyr</td></tr>\n",
              "\t<tr><td>2017-01-02</td><td>1840</td><td>tidyr</td></tr>\n",
              "\t<tr><td>2017-01-03</td><td>2495</td><td>tidyr</td></tr>\n",
              "\t<tr><td>2017-01-04</td><td>2906</td><td>tidyr</td></tr>\n",
              "\t<tr><td>2017-01-05</td><td>2847</td><td>tidyr</td></tr>\n",
              "\t<tr><td>2017-01-06</td><td>2756</td><td>tidyr</td></tr>\n",
              "</tbody>\n",
              "</table>\n"
            ],
            "text/markdown": "\nA tbl_time: 6 × 3\n\n| date &lt;date&gt; | count &lt;dbl&gt; | package &lt;chr&gt; |\n|---|---|---|\n| 2017-01-01 |  873 | tidyr |\n| 2017-01-02 | 1840 | tidyr |\n| 2017-01-03 | 2495 | tidyr |\n| 2017-01-04 | 2906 | tidyr |\n| 2017-01-05 | 2847 | tidyr |\n| 2017-01-06 | 2756 | tidyr |\n\n",
            "text/latex": "A tbl\\_time: 6 × 3\n\\begin{tabular}{lll}\n date & count & package\\\\\n <date> & <dbl> & <chr>\\\\\n\\hline\n\t 2017-01-01 &  873 & tidyr\\\\\n\t 2017-01-02 & 1840 & tidyr\\\\\n\t 2017-01-03 & 2495 & tidyr\\\\\n\t 2017-01-04 & 2906 & tidyr\\\\\n\t 2017-01-05 & 2847 & tidyr\\\\\n\t 2017-01-06 & 2756 & tidyr\\\\\n\\end{tabular}\n",
            "text/plain": [
              "  date       count package\n",
              "1 2017-01-01  873  tidyr  \n",
              "2 2017-01-02 1840  tidyr  \n",
              "3 2017-01-03 2495  tidyr  \n",
              "4 2017-01-04 2906  tidyr  \n",
              "5 2017-01-05 2847  tidyr  \n",
              "6 2017-01-06 2756  tidyr  "
            ]
          },
          "metadata": {}
        }
      ]
    },
    {
      "cell_type": "code",
      "source": [
        "#Convert date to Date column from string to date\n",
        "\n",
        "data3$Date <- as.Date(data3$Date,format=\"%m/%d/%Y\") \n",
        "glimpse(data3)"
      ],
      "metadata": {
        "colab": {
          "base_uri": "https://localhost:8080/"
        },
        "id": "GpO1J7kBxHQK",
        "outputId": "9b2972be-9c5b-4807-b1a9-fe7877ec4875"
      },
      "execution_count": 16,
      "outputs": [
        {
          "output_type": "stream",
          "name": "stdout",
          "text": [
            "Rows: 1,000\n",
            "Columns: 2\n",
            "$ Date  \u001b[3m\u001b[90m<date>\u001b[39m\u001b[23m 2019-01-05, 2019-03-08, 2019-03-03, 2019-01-27, 2019-02-08, 201…\n",
            "$ Sales \u001b[3m\u001b[90m<dbl>\u001b[39m\u001b[23m 548.9715, 80.2200, 340.5255, 489.0480, 634.3785, 627.6165, 433.6…\n"
          ]
        }
      ]
    },
    {
      "cell_type": "code",
      "source": [
        "# Hence we have to convert the dataframe btc into a tibble object  %>% select(-one_of('Date'))\n",
        "# The frequency and trend parameters are automatically set based on the time scale (or periodicity)\n",
        "# of the time series using tibbletime based function under the hood.\n",
        "\n",
        "tib <- data3 %>% rownames_to_column() %>% as.tibble() %>% \n",
        "  mutate(date = as.Date(Date, \"%m/%d/%y\"))%>% select(-one_of('Date'))\n",
        "\n",
        "head(tib)"
      ],
      "metadata": {
        "colab": {
          "base_uri": "https://localhost:8080/",
          "height": 286
        },
        "id": "C9Zj_JLx1Mg3",
        "outputId": "ed2ac2f7-9d7f-4fae-b321-dbd802ce1727"
      },
      "execution_count": 29,
      "outputs": [
        {
          "output_type": "display_data",
          "data": {
            "text/html": [
              "<table class=\"dataframe\">\n",
              "<caption>A tibble: 6 × 3</caption>\n",
              "<thead>\n",
              "\t<tr><th scope=col>rowname</th><th scope=col>Sales</th><th scope=col>date</th></tr>\n",
              "\t<tr><th scope=col>&lt;chr&gt;</th><th scope=col>&lt;dbl&gt;</th><th scope=col>&lt;date&gt;</th></tr>\n",
              "</thead>\n",
              "<tbody>\n",
              "\t<tr><td>1</td><td>548.9715</td><td>2019-01-05</td></tr>\n",
              "\t<tr><td>2</td><td> 80.2200</td><td>2019-03-08</td></tr>\n",
              "\t<tr><td>3</td><td>340.5255</td><td>2019-03-03</td></tr>\n",
              "\t<tr><td>4</td><td>489.0480</td><td>2019-01-27</td></tr>\n",
              "\t<tr><td>5</td><td>634.3785</td><td>2019-02-08</td></tr>\n",
              "\t<tr><td>6</td><td>627.6165</td><td>2019-03-25</td></tr>\n",
              "</tbody>\n",
              "</table>\n"
            ],
            "text/markdown": "\nA tibble: 6 × 3\n\n| rowname &lt;chr&gt; | Sales &lt;dbl&gt; | date &lt;date&gt; |\n|---|---|---|\n| 1 | 548.9715 | 2019-01-05 |\n| 2 |  80.2200 | 2019-03-08 |\n| 3 | 340.5255 | 2019-03-03 |\n| 4 | 489.0480 | 2019-01-27 |\n| 5 | 634.3785 | 2019-02-08 |\n| 6 | 627.6165 | 2019-03-25 |\n\n",
            "text/latex": "A tibble: 6 × 3\n\\begin{tabular}{lll}\n rowname & Sales & date\\\\\n <chr> & <dbl> & <date>\\\\\n\\hline\n\t 1 & 548.9715 & 2019-01-05\\\\\n\t 2 &  80.2200 & 2019-03-08\\\\\n\t 3 & 340.5255 & 2019-03-03\\\\\n\t 4 & 489.0480 & 2019-01-27\\\\\n\t 5 & 634.3785 & 2019-02-08\\\\\n\t 6 & 627.6165 & 2019-03-25\\\\\n\\end{tabular}\n",
            "text/plain": [
              "  rowname Sales    date      \n",
              "1 1       548.9715 2019-01-05\n",
              "2 2        80.2200 2019-03-08\n",
              "3 3       340.5255 2019-03-03\n",
              "4 4       489.0480 2019-01-27\n",
              "5 5       634.3785 2019-02-08\n",
              "6 6       627.6165 2019-03-25"
            ]
          },
          "metadata": {}
        }
      ]
    },
    {
      "cell_type": "code",
      "source": [
        "#Time Series Decomposition where the Time series data is decomposed \n",
        "# into Seasonal, Trend and remainder components using the time_decompose() function.\n",
        "# anomalize can detect and flag anomalies in the decomposed data\n",
        "# plot_anomalies() - \n",
        "# we now plot using plot_anomaly_decomposition() to visualize out data.\n",
        "\n",
        "library(tibbletime)\n",
        "x <- as_tbl_time(tib, index = date)\n",
        "\n",
        "x %>% \n",
        "  as_period(\"daily\")%>% \n",
        "  time_decompose(Sales, method = \"stl\", frequency = \"auto\", trend = \"auto\") %>%\n",
        "  anomalize(remainder, method = \"gesd\", alpha = 0.05, max_anoms = 0.2) %>%\n",
        "  \n",
        "  plot_anomaly_decomposition()"
      ],
      "metadata": {
        "colab": {
          "base_uri": "https://localhost:8080/",
          "height": 738
        },
        "id": "MwEp9BZk0q9v",
        "outputId": "bb5f6b88-b340-4911-9488-8b275c7cba90"
      },
      "execution_count": 31,
      "outputs": [
        {
          "output_type": "stream",
          "name": "stderr",
          "text": [
            "Note: Index not ordered. tibbletime assumes index is in ascending order. Results may not be as desired.\n",
            "\n",
            "Note: Index not ordered. tibbletime assumes index is in ascending order. Results may not be as desired.\n",
            "\n",
            "frequency = 4 days\n",
            "\n",
            "Note: Index not ordered. tibbletime assumes index is in ascending order. Results may not be as desired.\n",
            "\n",
            "Note: Index not ordered. tibbletime assumes index is in ascending order. Results may not be as desired.\n",
            "\n",
            "trend = 47 days\n",
            "\n",
            "Registered S3 method overwritten by 'quantmod':\n",
            "  method            from\n",
            "  as.zoo.data.frame zoo \n",
            "\n"
          ]
        },
        {
          "output_type": "display_data",
          "data": {
            "text/plain": [
              "plot without title"
            ],
            "image/png": "[encoded data removed]"
          },
          "metadata": {
            "image/png": {
              "width": 420,
              "height": 420
            }
          }
        }
      ]
    },
    {
      "cell_type": "markdown",
      "source": [
        "**At specified alpha of 0.05 and max_anom value of 0.2, we can see there are anomalies detected in the data.I recommend carrefour to check them out to ensure they are not fraudlent activities**"
      ],
      "metadata": {
        "id": "F_Efq-a73gXi"
      }
    }
  ]
}